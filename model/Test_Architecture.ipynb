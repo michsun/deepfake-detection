{
 "cells": [
  {
   "cell_type": "markdown",
   "id": "5ed10faa",
   "metadata": {},
   "source": [
    "# Deepfake Detection Test\n",
    "\n",
    "**Key Resources:**\n",
    "\n",
    "- [Kaggle 1st place solution](https://www.kaggle.com/competitions/deepfake-detection-challenge/discussion/145721#818975)\n",
    "- [Kaggle 3rd place solution](https://www.kaggle.com/competitions/deepfake-detection-challenge/discussion/158158#884330)"
   ]
  },
  {
   "cell_type": "code",
   "execution_count": 100,
   "id": "8fc4476e",
   "metadata": {},
   "outputs": [],
   "source": [
    "import cv2\n",
    "import json\n",
    "import numpy as np\n",
    "import pandas as pd\n",
    "import pickle\n",
    "import os\n",
    "import tensorflow as tf\n",
    "\n",
    "from IPython.display import Video\n",
    "from pathlib import Path\n",
    "from typing import List\n",
    "\n",
    "DATA_PATH = \"../datasets/Microsoft-Deepfake-Detection-Challenge/\"\n",
    "\n",
    "TRAIN_PATH = DATA_PATH + \"train_sample_videos\"\n",
    "TEST_PATH = DATA_PATH + \"test_videos\"\n",
    "LABEL_PATH = DATA_PATH + \"train_sample_videos/metadata.json\""
   ]
  },
  {
   "cell_type": "code",
   "execution_count": 14,
   "id": "6230b233",
   "metadata": {},
   "outputs": [
    {
     "name": "stdout",
     "output_type": "stream",
     "text": [
      "/Users/michellesun/Dropbox/dev/IN_PROGRESS/deepfake-detection/model\r\n"
     ]
    }
   ],
   "source": [
    "!pwd"
   ]
  },
  {
   "cell_type": "markdown",
   "id": "2dbfdc81",
   "metadata": {},
   "source": [
    "## Load Dataset"
   ]
  },
  {
   "cell_type": "markdown",
   "id": "4cd9a197",
   "metadata": {},
   "source": [
    "### Labels"
   ]
  },
  {
   "cell_type": "code",
   "execution_count": 28,
   "id": "5e8714e1",
   "metadata": {
    "scrolled": true
   },
   "outputs": [
    {
     "name": "stdout",
     "output_type": "stream",
     "text": [
      "('aagfhgtpmv.mp4', {'label': 'FAKE', 'split': 'train', 'original': 'vudstovrck.mp4'})\n"
     ]
    },
    {
     "data": {
      "text/html": [
       "<div>\n",
       "<style scoped>\n",
       "    .dataframe tbody tr th:only-of-type {\n",
       "        vertical-align: middle;\n",
       "    }\n",
       "\n",
       "    .dataframe tbody tr th {\n",
       "        vertical-align: top;\n",
       "    }\n",
       "\n",
       "    .dataframe thead th {\n",
       "        text-align: right;\n",
       "    }\n",
       "</style>\n",
       "<table border=\"1\" class=\"dataframe\">\n",
       "  <thead>\n",
       "    <tr style=\"text-align: right;\">\n",
       "      <th></th>\n",
       "      <th>filename</th>\n",
       "      <th>label</th>\n",
       "      <th>split</th>\n",
       "      <th>original</th>\n",
       "    </tr>\n",
       "  </thead>\n",
       "  <tbody>\n",
       "    <tr>\n",
       "      <th>0</th>\n",
       "      <td>aagfhgtpmv.mp4</td>\n",
       "      <td>FAKE</td>\n",
       "      <td>train</td>\n",
       "      <td>vudstovrck.mp4</td>\n",
       "    </tr>\n",
       "    <tr>\n",
       "      <th>1</th>\n",
       "      <td>aapnvogymq.mp4</td>\n",
       "      <td>FAKE</td>\n",
       "      <td>train</td>\n",
       "      <td>jdubbvfswz.mp4</td>\n",
       "    </tr>\n",
       "    <tr>\n",
       "      <th>2</th>\n",
       "      <td>abarnvbtwb.mp4</td>\n",
       "      <td>REAL</td>\n",
       "      <td>train</td>\n",
       "      <td>None</td>\n",
       "    </tr>\n",
       "    <tr>\n",
       "      <th>3</th>\n",
       "      <td>abofeumbvv.mp4</td>\n",
       "      <td>FAKE</td>\n",
       "      <td>train</td>\n",
       "      <td>atvmxvwyns.mp4</td>\n",
       "    </tr>\n",
       "    <tr>\n",
       "      <th>4</th>\n",
       "      <td>abqwwspghj.mp4</td>\n",
       "      <td>FAKE</td>\n",
       "      <td>train</td>\n",
       "      <td>qzimuostzz.mp4</td>\n",
       "    </tr>\n",
       "    <tr>\n",
       "      <th>5</th>\n",
       "      <td>acifjvzvpm.mp4</td>\n",
       "      <td>FAKE</td>\n",
       "      <td>train</td>\n",
       "      <td>kbvibjhfzo.mp4</td>\n",
       "    </tr>\n",
       "    <tr>\n",
       "      <th>6</th>\n",
       "      <td>acqfdwsrhi.mp4</td>\n",
       "      <td>FAKE</td>\n",
       "      <td>train</td>\n",
       "      <td>ccfoszqabv.mp4</td>\n",
       "    </tr>\n",
       "    <tr>\n",
       "      <th>7</th>\n",
       "      <td>acxnxvbsxk.mp4</td>\n",
       "      <td>FAKE</td>\n",
       "      <td>train</td>\n",
       "      <td>fjlyaizcwc.mp4</td>\n",
       "    </tr>\n",
       "    <tr>\n",
       "      <th>8</th>\n",
       "      <td>acxwigylke.mp4</td>\n",
       "      <td>FAKE</td>\n",
       "      <td>train</td>\n",
       "      <td>ffcwhpnpuw.mp4</td>\n",
       "    </tr>\n",
       "    <tr>\n",
       "      <th>9</th>\n",
       "      <td>aczrgyricp.mp4</td>\n",
       "      <td>FAKE</td>\n",
       "      <td>train</td>\n",
       "      <td>slwkmefgde.mp4</td>\n",
       "    </tr>\n",
       "  </tbody>\n",
       "</table>\n",
       "</div>"
      ],
      "text/plain": [
       "         filename label  split        original\n",
       "0  aagfhgtpmv.mp4  FAKE  train  vudstovrck.mp4\n",
       "1  aapnvogymq.mp4  FAKE  train  jdubbvfswz.mp4\n",
       "2  abarnvbtwb.mp4  REAL  train            None\n",
       "3  abofeumbvv.mp4  FAKE  train  atvmxvwyns.mp4\n",
       "4  abqwwspghj.mp4  FAKE  train  qzimuostzz.mp4\n",
       "5  acifjvzvpm.mp4  FAKE  train  kbvibjhfzo.mp4\n",
       "6  acqfdwsrhi.mp4  FAKE  train  ccfoszqabv.mp4\n",
       "7  acxnxvbsxk.mp4  FAKE  train  fjlyaizcwc.mp4\n",
       "8  acxwigylke.mp4  FAKE  train  ffcwhpnpuw.mp4\n",
       "9  aczrgyricp.mp4  FAKE  train  slwkmefgde.mp4"
      ]
     },
     "execution_count": 28,
     "metadata": {},
     "output_type": "execute_result"
    }
   ],
   "source": [
    "# Labels\n",
    "with open(LABEL_PATH, 'r', encoding='utf-8') as f:\n",
    "  labels_dict = json.load(f)\n",
    "\n",
    "# Preview first line of labels_dict\n",
    "print(next(iter(labels_dict.items())))\n",
    "\n",
    "# Restructure dictionary for pandas dataframe input {'col':[1, 2], 'col2':[3, 4]}\n",
    "filenames = list(labels_dict.keys())\n",
    "labels = [ labels_dict[name]['label'] for name in filenames ]\n",
    "splits = [ labels_dict[name]['split'] for name in filenames ]\n",
    "originals = [ labels_dict[name]['original'] for name in filenames ]\n",
    "labels_dict = {\n",
    "  'filename': filenames,\n",
    "  'label': labels,\n",
    "  'split': splits,\n",
    "  'original': originals\n",
    "}\n",
    "\n",
    "# \n",
    "labels = pd.DataFrame(labels_dict)\n",
    "labels.head(10)"
   ]
  },
  {
   "cell_type": "code",
   "execution_count": 35,
   "id": "5dde262f",
   "metadata": {},
   "outputs": [
    {
     "data": {
      "text/plain": [
       "(400, 4)"
      ]
     },
     "execution_count": 35,
     "metadata": {},
     "output_type": "execute_result"
    }
   ],
   "source": [
    "labels.shape"
   ]
  },
  {
   "cell_type": "code",
   "execution_count": 39,
   "id": "4a2f91f4",
   "metadata": {},
   "outputs": [
    {
     "name": "stdout",
     "output_type": "stream",
     "text": [
      "Unique inputs: 400\n"
     ]
    }
   ],
   "source": [
    "# Validate unique values\n",
    "print(\"Unique inputs:\", len(labels['filename'].unique()))"
   ]
  },
  {
   "cell_type": "code",
   "execution_count": 41,
   "id": "b3e2c382",
   "metadata": {},
   "outputs": [
    {
     "data": {
      "text/plain": [
       "atvmxvwyns.mp4    6\n",
       "meawmsgiti.mp4    6\n",
       "qeumxirsme.mp4    5\n",
       "kgbkktcjxf.mp4    5\n",
       "fysyrqfguw.mp4    4\n",
       "                 ..\n",
       "cizlkenljw.mp4    1\n",
       "xagsvjctmp.mp4    1\n",
       "uuxqylnzls.mp4    1\n",
       "brwrlczjvi.mp4    1\n",
       "bdnaqemxmr.mp4    1\n",
       "Name: original, Length: 209, dtype: int64"
      ]
     },
     "execution_count": 41,
     "metadata": {},
     "output_type": "execute_result"
    }
   ],
   "source": [
    "labels['original'].value_counts()"
   ]
  },
  {
   "cell_type": "code",
   "execution_count": 42,
   "id": "8f8f0bcc",
   "metadata": {},
   "outputs": [
    {
     "data": {
      "text/plain": [
       "train    400\n",
       "Name: split, dtype: int64"
      ]
     },
     "execution_count": 42,
     "metadata": {},
     "output_type": "execute_result"
    }
   ],
   "source": [
    "labels['split'].value_counts() # all train"
   ]
  },
  {
   "cell_type": "code",
   "execution_count": 34,
   "id": "cb401a09",
   "metadata": {},
   "outputs": [
    {
     "data": {
      "text/plain": [
       "FAKE    323\n",
       "REAL     77\n",
       "Name: label, dtype: int64"
      ]
     },
     "execution_count": 34,
     "metadata": {},
     "output_type": "execute_result"
    }
   ],
   "source": [
    "labels['label'].value_counts()"
   ]
  },
  {
   "cell_type": "markdown",
   "id": "827f731e",
   "metadata": {},
   "source": [
    "**Observation:** Data imbalance with significantly more FAKE videos than real. Potential bias towards FAKE videos."
   ]
  },
  {
   "cell_type": "markdown",
   "id": "e69846a4",
   "metadata": {},
   "source": [
    "### Load Deepfake Dataset"
   ]
  },
  {
   "cell_type": "code",
   "execution_count": 87,
   "id": "ce418e0b",
   "metadata": {},
   "outputs": [],
   "source": [
    "# Helper Functions\n",
    "\n",
    "def isdir(fullpath: str) -> bool:\n",
    "    \"\"\"Returns true if is a file, and false if otherwise (a directory).\"\"\"\n",
    "    try:\n",
    "        if os.path.exists(fullpath):\n",
    "            if os.path.isdir(fullpath):\n",
    "                return True\n",
    "            return False\n",
    "    except FileNotFoundError:\n",
    "        print(f'{fullpath} does not exist.')\n",
    "\n",
    "def iterate_files(directory: str) -> List:\n",
    "    \"\"\"Iterates over the files in the given directory and returns a list of \n",
    "    found files.\"\"\"\n",
    "    files = []\n",
    "    for file in os.listdir(directory):\n",
    "        filename = os.fsdecode(file)\n",
    "        fullpath = os.path.join(directory, filename)\n",
    "        if (isdir(fullpath)):\n",
    "            files += iterate_files(fullpath)\n",
    "        else:\n",
    "            files.append(fullpath)\n",
    "    return files\n",
    "  \n",
    "def get_filename(source: str):\n",
    "    \"\"\"Returns the filename given a full path.\"\"\"\n",
    "    return os.path.basename(source)"
   ]
  },
  {
   "cell_type": "code",
   "execution_count": 113,
   "id": "a74842a8",
   "metadata": {},
   "outputs": [],
   "source": [
    "# dataset currently \n",
    "dataset = iterate_files(TRAIN_PATH)\n",
    "\n",
    "# Removes label (metadata.json) from dataset\n",
    "if LABEL_PATH in dataset:\n",
    "  dataset.remove(LABEL_PATH)\n",
    "\n",
    "# Sorts alphabetically\n",
    "dataset = sorted(dataset)"
   ]
  },
  {
   "cell_type": "code",
   "execution_count": 114,
   "id": "6ffbff2a",
   "metadata": {},
   "outputs": [
    {
     "name": "stderr",
     "output_type": "stream",
     "text": [
      "/Users/michellesun/opt/anaconda3/envs/tensorflow/lib/python3.7/site-packages/ipykernel_launcher.py:2: DeprecationWarning: This function is deprecated. Please call randint(1, 400 + 1) instead\n",
      "  \n"
     ]
    },
    {
     "name": "stdout",
     "output_type": "stream",
     "text": [
      "Created 301 frames for bqhtpqmmqp.mp4\n"
     ]
    },
    {
     "data": {
      "text/html": [
       "<video src=\"../datasets/Microsoft-Deepfake-Detection-Challenge/train_sample_videos/bqhtpqmmqp.mp4\" controls  width=\"500\"  height=\"300\">\n",
       "      Your browser does not support the <code>video</code> element.\n",
       "    </video>"
      ],
      "text/plain": [
       "<IPython.core.display.Video object>"
      ]
     },
     "execution_count": 114,
     "metadata": {},
     "output_type": "execute_result"
    }
   ],
   "source": [
    "# Test video capture\n",
    "\n",
    "random_video = dataset[np.random.random_integers(1,len(dataset))]\n",
    "EXPORT_PATH = \"extracted_frames\"\n",
    "\n",
    "video_name = os.path.splitext(get_filename(random_video))[0] + \"/\"\n",
    "export_loc = os.path.join(EXPORT_PATH, video_name)\n",
    "Path(export_loc).mkdir(parents=True, exist_ok=True)\n",
    "vidcap = cv2.VideoCapture(random_video)\n",
    "success, image = vidcap.read()\n",
    "count = 0\n",
    "while success:\n",
    "  cv2.imwrite(os.path.join(export_loc, \"frame%d.jpg\" % count), image)\n",
    "  success, image = vidcap.read()\n",
    "  count += 1\n",
    "#   print('Read a new frame: ', success)\n",
    "\n",
    "print(f\"Successfully created {count} frames for {get_filename(random_video)}\")\n",
    "Video(random_video, width=500, height=300)"
   ]
  },
  {
   "cell_type": "code",
   "execution_count": 160,
   "id": "4b818141",
   "metadata": {},
   "outputs": [
    {
     "name": "stdout",
     "output_type": "stream",
     "text": [
      "Successfully extracted 10 frames from benmsfzfaz.mp4.\n"
     ]
    },
    {
     "data": {
      "text/html": [
       "<video src=\"../datasets/Microsoft-Deepfake-Detection-Challenge/train_sample_videos/benmsfzfaz.mp4\" controls  width=\"500\" >\n",
       "      Your browser does not support the <code>video</code> element.\n",
       "    </video>"
      ],
      "text/plain": [
       "<IPython.core.display.Video object>"
      ]
     },
     "execution_count": 160,
     "metadata": {},
     "output_type": "execute_result"
    }
   ],
   "source": [
    "def get_frames_evenly(video_source: str, n_frames: int) -> List[str]:\n",
    "  \"\"\"\n",
    "  Exports n_frames number of frames from the video_source distributed\n",
    "  evenly across the video.\n",
    "  \n",
    "  :return: list of paths for the exported frames\n",
    "  \"\"\"\n",
    "  vidcap = cv2.VideoCapture(video_source)\n",
    "  total_frames = int(vidcap.get(cv2.CAP_PROP_FRAME_COUNT)) \n",
    "  if n_frames > 0 and n_frames <= total_frames:\n",
    "    step = int(total_frames/n_frames)\n",
    "    frames = np.arange(1,total_frames+1,step)\n",
    "  else:\n",
    "    frames = np.arange(1,total_frames,1)\n",
    "  \n",
    "  video_name = os.path.splitext(get_filename(video_source))[0] + \"/\"\n",
    "  export_loc = os.path.join(EXPORT_PATH, video_name)\n",
    "  Path(export_loc).mkdir(parents=True, exist_ok=True)\n",
    "  exported_files = []\n",
    "  for i in frames:\n",
    "    vidcap.set(1,i)\n",
    "    success, image = vidcap.read()\n",
    "    exported_path = os.path.join(export_loc, f\"frame{i}.jpg\")\n",
    "    cv2.imwrite(exported_path, image)\n",
    "    exported_files.append(exported_path)\n",
    "  \n",
    "  print(f\"Successfully extracted {n_frames} frames from {get_filename(video_source)}.\")\n",
    "\n",
    "\n",
    "random_video = dataset[100]\n",
    "get_frames_evenly(random_video, n_frames=10)\n",
    "\n",
    "Video(random_video, width=500)"
   ]
  },
  {
   "cell_type": "markdown",
   "id": "22f08297",
   "metadata": {},
   "source": [
    "### Split dataset"
   ]
  },
  {
   "cell_type": "code",
   "execution_count": 161,
   "id": "04eb9707",
   "metadata": {},
   "outputs": [
    {
     "name": "stdout",
     "output_type": "stream",
     "text": [
      "Directory  /Users/michellesun /.deepface created\n",
      "Directory  /Users/michellesun /.deepface/weights created\n"
     ]
    }
   ],
   "source": [
    "from deepface import DeepFace"
   ]
  },
  {
   "cell_type": "code",
   "execution_count": 163,
   "id": "cde90c45",
   "metadata": {},
   "outputs": [
    {
     "data": {
      "text/plain": [
       "<sqlite3.Connection at 0x7fe021b231f0>"
      ]
     },
     "execution_count": 163,
     "metadata": {},
     "output_type": "execute_result"
    }
   ],
   "source": [
    "# Create test db for deepface\n",
    "import sqlite3\n",
    "\n",
    "sqlite3.connect('deepface_db')"
   ]
  },
  {
   "cell_type": "code",
   "execution_count": 164,
   "id": "54559cb5",
   "metadata": {},
   "outputs": [
    {
     "ename": "ValueError",
     "evalue": "Passed db_path does not exist!",
     "output_type": "error",
     "traceback": [
      "\u001b[0;31m---------------------------------------------------------------------------\u001b[0m",
      "\u001b[0;31mValueError\u001b[0m                                Traceback (most recent call last)",
      "\u001b[0;32m/var/folders/hp/zn9_yg9d1tz9_w596brfcm580000gn/T/ipykernel_2944/1393888782.py\u001b[0m in \u001b[0;36m<module>\u001b[0;34m\u001b[0m\n\u001b[0;32m----> 1\u001b[0;31m \u001b[0mdf\u001b[0m \u001b[0;34m=\u001b[0m \u001b[0mDeepFace\u001b[0m\u001b[0;34m.\u001b[0m\u001b[0mfind\u001b[0m\u001b[0;34m(\u001b[0m\u001b[0mimg_path\u001b[0m\u001b[0;34m=\u001b[0m\u001b[0mrandom_video\u001b[0m\u001b[0;34m,\u001b[0m \u001b[0mdb_path\u001b[0m\u001b[0;34m=\u001b[0m\u001b[0;34m'deepface_db'\u001b[0m\u001b[0;34m)\u001b[0m\u001b[0;34m\u001b[0m\u001b[0;34m\u001b[0m\u001b[0m\n\u001b[0m",
      "\u001b[0;32m~/opt/anaconda3/envs/tensorflow/lib/python3.7/site-packages/deepface/DeepFace.py\u001b[0m in \u001b[0;36mfind\u001b[0;34m(img_path, db_path, model_name, distance_metric, model, enforce_detection, detector_backend, align, prog_bar, normalization)\u001b[0m\n\u001b[1;32m    713\u001b[0m \u001b[0;34m\u001b[0m\u001b[0m\n\u001b[1;32m    714\u001b[0m         \u001b[0;32melse\u001b[0m\u001b[0;34m:\u001b[0m\u001b[0;34m\u001b[0m\u001b[0;34m\u001b[0m\u001b[0m\n\u001b[0;32m--> 715\u001b[0;31m                 \u001b[0;32mraise\u001b[0m \u001b[0mValueError\u001b[0m\u001b[0;34m(\u001b[0m\u001b[0;34m\"Passed db_path does not exist!\"\u001b[0m\u001b[0;34m)\u001b[0m\u001b[0;34m\u001b[0m\u001b[0;34m\u001b[0m\u001b[0m\n\u001b[0m\u001b[1;32m    716\u001b[0m \u001b[0;34m\u001b[0m\u001b[0m\n\u001b[1;32m    717\u001b[0m         \u001b[0;32mreturn\u001b[0m \u001b[0;32mNone\u001b[0m\u001b[0;34m\u001b[0m\u001b[0;34m\u001b[0m\u001b[0m\n",
      "\u001b[0;31mValueError\u001b[0m: Passed db_path does not exist!"
     ]
    }
   ],
   "source": [
    "df = DeepFace.find(img_path=random_video, db_path='deepface_db')"
   ]
  },
  {
   "cell_type": "code",
   "execution_count": null,
   "id": "435d4b9f",
   "metadata": {},
   "outputs": [],
   "source": []
  }
 ],
 "metadata": {
  "kernelspec": {
   "display_name": "Python 3 (ipykernel)",
   "language": "python",
   "name": "python3"
  },
  "language_info": {
   "codemirror_mode": {
    "name": "ipython",
    "version": 3
   },
   "file_extension": ".py",
   "mimetype": "text/x-python",
   "name": "python",
   "nbconvert_exporter": "python",
   "pygments_lexer": "ipython3",
   "version": "3.7.12"
  },
  "toc": {
   "base_numbering": 1,
   "nav_menu": {},
   "number_sections": true,
   "sideBar": true,
   "skip_h1_title": false,
   "title_cell": "Table of Contents",
   "title_sidebar": "Contents",
   "toc_cell": false,
   "toc_position": {},
   "toc_section_display": true,
   "toc_window_display": false
  }
 },
 "nbformat": 4,
 "nbformat_minor": 5
}
