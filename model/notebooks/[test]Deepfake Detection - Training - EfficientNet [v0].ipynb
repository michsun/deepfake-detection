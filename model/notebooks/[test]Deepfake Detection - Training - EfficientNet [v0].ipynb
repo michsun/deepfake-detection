{
 "cells": [
  {
   "cell_type": "markdown",
   "id": "6cd4616c",
   "metadata": {},
   "source": [
    "# Deepfake Detection - Model Training EfficientNet"
   ]
  },
  {
   "cell_type": "markdown",
   "id": "93939235",
   "metadata": {},
   "source": [
    "## Setup and Imports"
   ]
  },
  {
   "cell_type": "code",
   "execution_count": 1,
   "id": "63a35a8e",
   "metadata": {},
   "outputs": [
    {
     "data": {
      "text/plain": [
       "'3.9.12'"
      ]
     },
     "execution_count": 1,
     "metadata": {},
     "output_type": "execute_result"
    }
   ],
   "source": [
    "from platform import python_version\n",
    "\n",
    "python_version()"
   ]
  },
  {
   "cell_type": "code",
   "execution_count": 2,
   "id": "3fc2f822",
   "metadata": {},
   "outputs": [
    {
     "data": {
      "text/plain": [
       "('2.9.1', '2.9.0')"
      ]
     },
     "execution_count": 2,
     "metadata": {},
     "output_type": "execute_result"
    }
   ],
   "source": [
    "import tensorflow as tf\n",
    "from tensorflow import keras\n",
    "\n",
    "tf.__version__, keras.__version__"
   ]
  },
  {
   "cell_type": "code",
   "execution_count": 3,
   "id": "c8b46fd2",
   "metadata": {},
   "outputs": [
    {
     "name": "stdout",
     "output_type": "stream",
     "text": [
      "Num GPUs Available:  1\n"
     ]
    }
   ],
   "source": [
    "import os\n",
    "\n",
    "# Check GPUs available\n",
    "print(\"Num GPUs Available: \", len(tf.config.list_physical_devices('GPU')))\n",
    "\n",
    "# Enables use of the GPU on a Mac using plaidml (ignore otherwise)\n"
   ]
  },
  {
   "cell_type": "code",
   "execution_count": 4,
   "id": "696f75ac",
   "metadata": {},
   "outputs": [],
   "source": [
    "import cv2\n",
    "import matplotlib.pyplot as plt\n",
    "%matplotlib inline\n",
    "import numpy as np\n",
    "import os\n",
    "import pandas as pd\n",
    "import pickle\n",
    "import random\n",
    "import sys\n",
    "\n",
    "from tqdm import tqdm\n",
    "\n",
    "from typing import List"
   ]
  },
  {
   "cell_type": "markdown",
   "id": "97af7d92",
   "metadata": {},
   "source": [
    "## Load dataset"
   ]
  },
  {
   "cell_type": "code",
   "execution_count": 5,
   "id": "7973839f",
   "metadata": {},
   "outputs": [],
   "source": [
    "DATASET_PATH = \"../dataset-sample-faces.csv\""
   ]
  },
  {
   "cell_type": "code",
   "execution_count": 6,
   "id": "7558e14f",
   "metadata": {},
   "outputs": [
    {
     "data": {
      "text/html": [
       "<div>\n",
       "<style scoped>\n",
       "    .dataframe tbody tr th:only-of-type {\n",
       "        vertical-align: middle;\n",
       "    }\n",
       "\n",
       "    .dataframe tbody tr th {\n",
       "        vertical-align: top;\n",
       "    }\n",
       "\n",
       "    .dataframe thead th {\n",
       "        text-align: right;\n",
       "    }\n",
       "</style>\n",
       "<table border=\"1\" class=\"dataframe\">\n",
       "  <thead>\n",
       "    <tr style=\"text-align: right;\">\n",
       "      <th></th>\n",
       "      <th>image_filename</th>\n",
       "      <th>image_fullpath</th>\n",
       "      <th>face_confidence</th>\n",
       "      <th>label</th>\n",
       "      <th>video_filename</th>\n",
       "      <th>video_fullpath</th>\n",
       "      <th>video_dataset</th>\n",
       "    </tr>\n",
       "  </thead>\n",
       "  <tbody>\n",
       "    <tr>\n",
       "      <th>0</th>\n",
       "      <td>id0_0000_1.png</td>\n",
       "      <td>../extracted_faces/id0_0000/id0_0000_1.png</td>\n",
       "      <td>0.997610</td>\n",
       "      <td>REAL</td>\n",
       "      <td>id0_0000.mp4</td>\n",
       "      <td>../datasets/Celeb-DF-v2/Celeb-real/id0_0000.mp4</td>\n",
       "      <td>Celeb-DF-v2</td>\n",
       "    </tr>\n",
       "    <tr>\n",
       "      <th>1</th>\n",
       "      <td>id0_0000_15.png</td>\n",
       "      <td>../extracted_faces/id0_0000/id0_0000_15.png</td>\n",
       "      <td>0.996413</td>\n",
       "      <td>REAL</td>\n",
       "      <td>id0_0000.mp4</td>\n",
       "      <td>../datasets/Celeb-DF-v2/Celeb-real/id0_0000.mp4</td>\n",
       "      <td>Celeb-DF-v2</td>\n",
       "    </tr>\n",
       "    <tr>\n",
       "      <th>2</th>\n",
       "      <td>id0_0000_29.png</td>\n",
       "      <td>../extracted_faces/id0_0000/id0_0000_29.png</td>\n",
       "      <td>0.999750</td>\n",
       "      <td>REAL</td>\n",
       "      <td>id0_0000.mp4</td>\n",
       "      <td>../datasets/Celeb-DF-v2/Celeb-real/id0_0000.mp4</td>\n",
       "      <td>Celeb-DF-v2</td>\n",
       "    </tr>\n",
       "    <tr>\n",
       "      <th>3</th>\n",
       "      <td>id0_0000_43.png</td>\n",
       "      <td>../extracted_faces/id0_0000/id0_0000_43.png</td>\n",
       "      <td>0.995511</td>\n",
       "      <td>REAL</td>\n",
       "      <td>id0_0000.mp4</td>\n",
       "      <td>../datasets/Celeb-DF-v2/Celeb-real/id0_0000.mp4</td>\n",
       "      <td>Celeb-DF-v2</td>\n",
       "    </tr>\n",
       "    <tr>\n",
       "      <th>4</th>\n",
       "      <td>id0_0000_57.png</td>\n",
       "      <td>../extracted_faces/id0_0000/id0_0000_57.png</td>\n",
       "      <td>0.997212</td>\n",
       "      <td>REAL</td>\n",
       "      <td>id0_0000.mp4</td>\n",
       "      <td>../datasets/Celeb-DF-v2/Celeb-real/id0_0000.mp4</td>\n",
       "      <td>Celeb-DF-v2</td>\n",
       "    </tr>\n",
       "  </tbody>\n",
       "</table>\n",
       "</div>"
      ],
      "text/plain": [
       "    image_filename                               image_fullpath  \\\n",
       "0   id0_0000_1.png   ../extracted_faces/id0_0000/id0_0000_1.png   \n",
       "1  id0_0000_15.png  ../extracted_faces/id0_0000/id0_0000_15.png   \n",
       "2  id0_0000_29.png  ../extracted_faces/id0_0000/id0_0000_29.png   \n",
       "3  id0_0000_43.png  ../extracted_faces/id0_0000/id0_0000_43.png   \n",
       "4  id0_0000_57.png  ../extracted_faces/id0_0000/id0_0000_57.png   \n",
       "\n",
       "   face_confidence label video_filename  \\\n",
       "0         0.997610  REAL   id0_0000.mp4   \n",
       "1         0.996413  REAL   id0_0000.mp4   \n",
       "2         0.999750  REAL   id0_0000.mp4   \n",
       "3         0.995511  REAL   id0_0000.mp4   \n",
       "4         0.997212  REAL   id0_0000.mp4   \n",
       "\n",
       "                                    video_fullpath video_dataset  \n",
       "0  ../datasets/Celeb-DF-v2/Celeb-real/id0_0000.mp4   Celeb-DF-v2  \n",
       "1  ../datasets/Celeb-DF-v2/Celeb-real/id0_0000.mp4   Celeb-DF-v2  \n",
       "2  ../datasets/Celeb-DF-v2/Celeb-real/id0_0000.mp4   Celeb-DF-v2  \n",
       "3  ../datasets/Celeb-DF-v2/Celeb-real/id0_0000.mp4   Celeb-DF-v2  \n",
       "4  ../datasets/Celeb-DF-v2/Celeb-real/id0_0000.mp4   Celeb-DF-v2  "
      ]
     },
     "execution_count": 6,
     "metadata": {},
     "output_type": "execute_result"
    }
   ],
   "source": [
    "data = pd.read_csv(DATASET_PATH)\n",
    "\n",
    "data.head()"
   ]
  },
  {
   "cell_type": "code",
   "execution_count": 7,
   "id": "ea5cd744",
   "metadata": {},
   "outputs": [
    {
     "data": {
      "text/plain": [
       "['image_filename',\n",
       " 'image_fullpath',\n",
       " 'face_confidence',\n",
       " 'label',\n",
       " 'video_filename',\n",
       " 'video_fullpath',\n",
       " 'video_dataset']"
      ]
     },
     "execution_count": 7,
     "metadata": {},
     "output_type": "execute_result"
    }
   ],
   "source": [
    "list(data.columns)"
   ]
  },
  {
   "cell_type": "code",
   "execution_count": 8,
   "id": "e85f7e49",
   "metadata": {},
   "outputs": [
    {
     "data": {
      "text/plain": [
       "REAL    48200\n",
       "FAKE    46832\n",
       "Name: label, dtype: int64"
      ]
     },
     "execution_count": 8,
     "metadata": {},
     "output_type": "execute_result"
    }
   ],
   "source": [
    "data['label'].value_counts()"
   ]
  },
  {
   "cell_type": "code",
   "execution_count": 9,
   "id": "29db191d",
   "metadata": {},
   "outputs": [],
   "source": [
    "data = data.sample(n=20000, random_state=42)"
   ]
  },
  {
   "cell_type": "code",
   "execution_count": 10,
   "id": "5def2f17",
   "metadata": {},
   "outputs": [
    {
     "data": {
      "text/plain": [
       "REAL    10060\n",
       "FAKE     9940\n",
       "Name: label, dtype: int64"
      ]
     },
     "execution_count": 10,
     "metadata": {},
     "output_type": "execute_result"
    }
   ],
   "source": [
    "data['label'].value_counts()"
   ]
  },
  {
   "cell_type": "markdown",
   "id": "25cf6e75",
   "metadata": {},
   "source": [
    "Although, there is a slight imbalance in the dataset as seen above, we sampled the number of \"FAKE\" videos equal to the number of \"REAL\" videos in the notebook [Deepfake Detection - Dataset Preparation.ipynb](./Deepfake%20Detection%20-%20Dataset%20Preparation.ipynb)"
   ]
  },
  {
   "cell_type": "markdown",
   "id": "b524eddc",
   "metadata": {},
   "source": [
    "## Data Splitting\n",
    "\n",
    "To ensure that images from a video in the train dataset is not in the validation/test dataset, a custom split function was made."
   ]
  },
  {
   "cell_type": "code",
   "execution_count": 11,
   "id": "c3c1a691",
   "metadata": {},
   "outputs": [],
   "source": [
    "def split_dataframe(data, test_size, column, shuffle=False, random_state=1):\n",
    "  \"\"\"Splits the dataframe based on unique values in a given \n",
    "  column.\"\"\"\n",
    "  # Gets a list of unique videos \n",
    "  videos = list(data[column].unique())\n",
    "  n = len(videos)\n",
    "  k = int(0.2 * n)\n",
    "\n",
    "  if shuffle:\n",
    "    data = data.sample(frac=1)\n",
    "\n",
    "  # Sets the random state\n",
    "  random.seed(random_state)\n",
    "  split_videos = random.sample(videos, k)\n",
    "\n",
    "  df1 = data[data[column].isin(split_videos)]\n",
    "  df2 = data[~data[column].isin(split_videos)]\n",
    "  \n",
    "  assert(len(df1[df1.isin(df2)].dropna()) == 0)\n",
    "  \n",
    "  df1.sort_index(inplace=True)\n",
    "  df2.sort_index(inplace=True)\n",
    "  \n",
    "  return df2, df1"
   ]
  },
  {
   "cell_type": "code",
   "execution_count": 12,
   "id": "bd721fdc",
   "metadata": {},
   "outputs": [
    {
     "name": "stderr",
     "output_type": "stream",
     "text": [
      "C:\\Users\\Michelle\\AppData\\Local\\Temp\\ipykernel_22652\\1251354954.py:21: SettingWithCopyWarning: \n",
      "A value is trying to be set on a copy of a slice from a DataFrame\n",
      "\n",
      "See the caveats in the documentation: https://pandas.pydata.org/pandas-docs/stable/user_guide/indexing.html#returning-a-view-versus-a-copy\n",
      "  df1.sort_index(inplace=True)\n",
      "C:\\Users\\Michelle\\AppData\\Local\\Temp\\ipykernel_22652\\1251354954.py:22: SettingWithCopyWarning: \n",
      "A value is trying to be set on a copy of a slice from a DataFrame\n",
      "\n",
      "See the caveats in the documentation: https://pandas.pydata.org/pandas-docs/stable/user_guide/indexing.html#returning-a-view-versus-a-copy\n",
      "  df2.sort_index(inplace=True)\n"
     ]
    }
   ],
   "source": [
    "TRAIN_SPLIT = 0.2\n",
    "VAL_SPLIT = 0.25\n",
    "\n",
    "train_df, test_df = split_dataframe(data=data, \n",
    "                                    test_size=TRAIN_SPLIT,\n",
    "                                    column=\"video_filename\",\n",
    "                                    shuffle=True,\n",
    "                                    random_state=42)\n",
    "\n",
    "train_df, val_df = split_dataframe(data=data, \n",
    "                                  test_size=VAL_SPLIT,\n",
    "                                  column=\"video_filename\",\n",
    "                                  random_state=42)"
   ]
  },
  {
   "cell_type": "code",
   "execution_count": 13,
   "id": "a12d3423",
   "metadata": {},
   "outputs": [
    {
     "data": {
      "text/plain": [
       "FAKE    8058\n",
       "REAL    7942\n",
       "Name: label, dtype: int64"
      ]
     },
     "execution_count": 13,
     "metadata": {},
     "output_type": "execute_result"
    }
   ],
   "source": [
    "train_df['label'].value_counts()"
   ]
  },
  {
   "cell_type": "code",
   "execution_count": 14,
   "id": "67c8b4fc",
   "metadata": {},
   "outputs": [
    {
     "data": {
      "text/plain": [
       "REAL    2118\n",
       "FAKE    1882\n",
       "Name: label, dtype: int64"
      ]
     },
     "execution_count": 14,
     "metadata": {},
     "output_type": "execute_result"
    }
   ],
   "source": [
    "test_df['label'].value_counts()"
   ]
  },
  {
   "cell_type": "code",
   "execution_count": 15,
   "id": "66b16e77",
   "metadata": {},
   "outputs": [
    {
     "data": {
      "text/plain": [
       "REAL    2118\n",
       "FAKE    1882\n",
       "Name: label, dtype: int64"
      ]
     },
     "execution_count": 15,
     "metadata": {},
     "output_type": "execute_result"
    }
   ],
   "source": [
    "val_df['label'].value_counts()"
   ]
  },
  {
   "cell_type": "markdown",
   "id": "3ba6de22",
   "metadata": {},
   "source": [
    "## Data Augmentation \n",
    "\n",
    "**Gaussian Noise:**\n",
    "\n",
    "**Random Erasing:** https://arxiv.org/abs/1708.04896\n",
    "    - Source code: https://github.com/zhunzhong07/Random-Erasing"
   ]
  },
  {
   "cell_type": "code",
   "execution_count": 16,
   "id": "26f51b14",
   "metadata": {},
   "outputs": [],
   "source": [
    "import math\n",
    "import random\n",
    "from keras.preprocessing.image import ImageDataGenerator\n",
    "\n",
    "def gaussian_noise(image, probability):\n",
    "  if random.uniform(0,1) > probability:\n",
    "    return image\n",
    "  row,col,ch= image.shape\n",
    "  mean = 0\n",
    "  var = 0.01 # slightly reduced\n",
    "  sigma = var ** 0.5\n",
    "  gauss = np.random.normal(mean,sigma,(row,col))\n",
    "  noisy = image\n",
    "  for i in range(ch):\n",
    "    noisy[:,:,i] = image[:,:,i] + gauss\n",
    "  return noisy\n",
    "\n",
    "\n",
    "def random_erasing(img, probability):\n",
    "  \"\"\"\n",
    "  Performs Random Erasing in Random Erasing Data Augmentation by Zhong et al.\n",
    "\n",
    "  probability: The probability that the operation will be performed.\n",
    "  sl: min erasing area\n",
    "  sh: max erasing area\n",
    "  r1: min aspect ratio\n",
    "  mean: erasing value\n",
    "\n",
    "  Note: Code modified for img.shape parameters instead of img.size()\n",
    "  \"\"\"\n",
    "  # Source: https://github.com/zhunzhong07/Random-Erasing\n",
    "  if random.uniform(0,1) > probability:\n",
    "    return img\n",
    "\n",
    "  # Default params\n",
    "  mean = [0.4914, 0.4822, 0.4465]\n",
    "  sl = 0.02\n",
    "  sh = 0.4\n",
    "  r1 = 0.3\n",
    "\n",
    "  for attempt in range(100):\n",
    "    area = img.shape[0] * img.shape[1]\n",
    "\n",
    "    target_area = random.uniform(sl, sh) * area\n",
    "    aspect_ratio = random.uniform(r1, 1/r1)\n",
    "\n",
    "    h = int(round(math.sqrt(target_area * aspect_ratio)))\n",
    "    w = int(round(math.sqrt(target_area / aspect_ratio)))\n",
    "\n",
    "    if w < img.shape[0] and h < img.shape[1]:\n",
    "        x1 = random.randint(0, img.shape[1] - h)\n",
    "        y1 = random.randint(0, img.shape[0] - w)\n",
    "        if img.shape[2] == 3:\n",
    "            img[x1:x1+h, y1:y1+w, 0] = mean[0]\n",
    "            img[x1:x1+h, y1:y1+w, 1] = mean[1]\n",
    "            img[x1:x1+h, y1:y1+w, 2] = mean[2]\n",
    "        else:\n",
    "            img[0, x1:x1+h, y1:y1+w] = mean[0]\n",
    "\n",
    "        return img\n",
    "  return img\n",
    "\n",
    "class CustomDataGenerator(ImageDataGenerator):\n",
    "  '''\n",
    "  Custom image data generator.\n",
    "  Allows image compression and random erasing.\n",
    "  '''\n",
    "  def __init__(self, \n",
    "               gaussian_noise : float = 0., \n",
    "               random_erasing : float = 0.,\n",
    "               **kwargs):\n",
    "    super().__init__(preprocessing_function=self.custom_augmentations,\n",
    "                    **kwargs)\n",
    "    self.gaussian_noise = gaussian_noise\n",
    "    self.random_erasing = random_erasing\n",
    "  \n",
    "  def custom_augmentations(self, image):\n",
    "    image = gaussian_noise(image, self.gaussian_noise)\n",
    "    image = random_erasing(image, self.random_erasing)\n",
    "    return image"
   ]
  },
  {
   "cell_type": "code",
   "execution_count": 17,
   "id": "631b2157",
   "metadata": {},
   "outputs": [],
   "source": [
    "train_datagen = CustomDataGenerator(rescale=1./255,\n",
    "                                  zoom_range=0.2,\n",
    "                                  rotation_range=0.1,\n",
    "                                  horizontal_flip=True,\n",
    "                                  # Custom augmentation probabilities\n",
    "                                  gaussian_noise=0.1,\n",
    "                                  random_erasing=0.3)\n",
    "\n",
    "test_datagen = ImageDataGenerator(rescale=1./255)"
   ]
  },
  {
   "cell_type": "code",
   "execution_count": 18,
   "id": "a4d7ad64",
   "metadata": {},
   "outputs": [
    {
     "name": "stdout",
     "output_type": "stream",
     "text": [
      "Found 16000 validated image filenames belonging to 2 classes.\n",
      "Found 4000 validated image filenames belonging to 2 classes.\n",
      "Found 4000 validated image filenames belonging to 2 classes.\n"
     ]
    }
   ],
   "source": [
    "train_generator = train_datagen.flow_from_dataframe(\n",
    "  dataframe = train_df,\n",
    "  directory = \".\",\n",
    "  x_col = \"image_fullpath\",\n",
    "  y_col = \"label\",\n",
    "  batch_size = 16,\n",
    "  seed = 42,\n",
    "  class_mode = \"binary\",\n",
    "  target_size=(128, 128)\n",
    ")\n",
    "\n",
    "valid_generator = train_datagen.flow_from_dataframe(\n",
    "  dataframe = val_df,\n",
    "  directory = \".\",\n",
    "  x_col = \"image_fullpath\",\n",
    "  y_col = \"label\",\n",
    "  batch_size = 16,\n",
    "  seed = 42,\n",
    "  class_mode = \"binary\",\n",
    "  target_size=(128, 128)\n",
    ")\n",
    "\n",
    "test_generator = test_datagen.flow_from_dataframe(\n",
    "  dataframe = test_df, \n",
    "  directory = \".\",\n",
    "  x_col = \"image_fullpath\",\n",
    "  y_col = \"label\",\n",
    "  batch_size=16,\n",
    "  seed = 42,\n",
    "  shuffle=False,\n",
    "  class_mode=\"binary\",\n",
    "  target_size=(128, 128)\n",
    ")"
   ]
  },
  {
   "cell_type": "markdown",
   "id": "8ebb5bab",
   "metadata": {},
   "source": [
    "## EfficientNet Model"
   ]
  },
  {
   "cell_type": "code",
   "execution_count": 19,
   "id": "817778c9",
   "metadata": {},
   "outputs": [],
   "source": [
    "class EfficientNet:\n",
    "    def __init__(self, input_size, n_freeze=143, dropout=0.5):\n",
    "        self.input_size = input_size\n",
    "        self.n_freeze = n_freeze\n",
    "        self.dropout = dropout\n",
    "        self.model = self._initialise_model()\n",
    "        self.history = None\n",
    "    \n",
    "    def _initialise_model(self):\n",
    "        input_t = keras.Input(shape=self.input_size)\n",
    "        base_model = keras.applications.EfficientNetB7(\n",
    "            include_top=False,\n",
    "            weights=\"imagenet\",\n",
    "            input_tensor=input_t,\n",
    "        )\n",
    "        model = keras.models.Sequential()\n",
    "        model.add(base_model)\n",
    "#         model.add(keras.layers.GlobalAveragePooling2D()) # v1\n",
    "        model.add(keras.layers.Flatten()) # v0\n",
    "        model.add(keras.layers.Dropout(self.dropout))\n",
    "        model.add(keras.layers.Dense(1, activation='sigmoid'))\n",
    "        return model\n",
    "    \n",
    "    def train_model(self, train_generator, valid_generator,\n",
    "                   epochs, learning_rate=0.0001,\n",
    "                   save_model:str=None,\n",
    "                   verbose=1):\n",
    "        train_steps = len(train_generator)\n",
    "        val_steps = len(valid_generator)\n",
    "      \n",
    "        self.model.compile(\n",
    "            loss='binary_crossentropy',\n",
    "            optimizer=tf.keras.optimizers.RMSprop(learning_rate=learning_rate),\n",
    "            metrics=['accuracy']\n",
    "        )\n",
    "        self.history = self.model.fit(\n",
    "            train_generator,\n",
    "            steps_per_epoch=train_steps,\n",
    "            epochs=epochs,\n",
    "            validation_data=valid_generator,\n",
    "            validation_steps=val_steps,\n",
    "            verbose=verbose,\n",
    "        )\n",
    "        \n",
    "        if save_model is not None:\n",
    "          self.save_model(save_model)\n",
    "        return self.history.history\n",
    "\n",
    "    def save_model(self,filepath):\n",
    "        self.model.save(filepath)\n",
    "\n",
    "    def get_history(self):\n",
    "        return self.history.history"
   ]
  },
  {
   "cell_type": "code",
   "execution_count": 20,
   "id": "981a02bb",
   "metadata": {},
   "outputs": [],
   "source": [
    "# v0 training - flatten layer\n",
    "model0 = EfficientNet(input_size=(128,128,3), n_freeze=-8, dropout=0.5)"
   ]
  },
  {
   "cell_type": "code",
   "execution_count": 21,
   "id": "831fc279",
   "metadata": {},
   "outputs": [
    {
     "name": "stdout",
     "output_type": "stream",
     "text": [
      "Epoch 1/50\n",
      "1000/1000 [==============================] - 348s 301ms/step - loss: 0.6321 - accuracy: 0.6789 - val_loss: 0.5904 - val_accuracy: 0.6795\n",
      "Epoch 2/50\n",
      "1000/1000 [==============================] - 295s 295ms/step - loss: 0.3757 - accuracy: 0.8338 - val_loss: 1.8844 - val_accuracy: 0.5300\n",
      "Epoch 3/50\n",
      "1000/1000 [==============================] - 299s 299ms/step - loss: 0.2728 - accuracy: 0.8865 - val_loss: 0.8979 - val_accuracy: 0.5307\n",
      "Epoch 4/50\n",
      "1000/1000 [==============================] - 293s 293ms/step - loss: 0.2222 - accuracy: 0.9074 - val_loss: 1.2103 - val_accuracy: 0.5598\n",
      "Epoch 5/50\n",
      "1000/1000 [==============================] - 292s 292ms/step - loss: 0.1884 - accuracy: 0.9241 - val_loss: 1.0864 - val_accuracy: 0.5590\n",
      "Epoch 6/50\n",
      "1000/1000 [==============================] - 292s 292ms/step - loss: 0.1634 - accuracy: 0.9331 - val_loss: 0.8298 - val_accuracy: 0.5773\n",
      "Epoch 7/50\n",
      "1000/1000 [==============================] - 295s 295ms/step - loss: 0.1433 - accuracy: 0.9426 - val_loss: 1.6026 - val_accuracy: 0.5968\n",
      "Epoch 8/50\n",
      "1000/1000 [==============================] - 290s 290ms/step - loss: 0.1356 - accuracy: 0.9473 - val_loss: 2.4085 - val_accuracy: 0.5472\n",
      "Epoch 9/50\n",
      "1000/1000 [==============================] - 292s 292ms/step - loss: 0.1184 - accuracy: 0.9538 - val_loss: 0.6165 - val_accuracy: 0.8040\n",
      "Epoch 10/50\n",
      "1000/1000 [==============================] - 297s 297ms/step - loss: 0.1151 - accuracy: 0.9566 - val_loss: 2.3223 - val_accuracy: 0.5490\n",
      "Epoch 11/50\n",
      "1000/1000 [==============================] - 298s 298ms/step - loss: 0.1075 - accuracy: 0.9610 - val_loss: 0.5034 - val_accuracy: 0.8510\n",
      "Epoch 12/50\n",
      "1000/1000 [==============================] - 297s 297ms/step - loss: 0.1033 - accuracy: 0.9606 - val_loss: 1.0259 - val_accuracy: 0.7308\n",
      "Epoch 13/50\n",
      "1000/1000 [==============================] - 297s 297ms/step - loss: 0.0970 - accuracy: 0.9649 - val_loss: 1.6739 - val_accuracy: 0.5408\n",
      "Epoch 14/50\n",
      "1000/1000 [==============================] - 298s 298ms/step - loss: 0.0949 - accuracy: 0.9644 - val_loss: 0.8990 - val_accuracy: 0.7185\n",
      "Epoch 15/50\n",
      "1000/1000 [==============================] - 296s 296ms/step - loss: 0.0881 - accuracy: 0.9667 - val_loss: 1.5066 - val_accuracy: 0.5515\n",
      "Epoch 16/50\n",
      "1000/1000 [==============================] - 295s 295ms/step - loss: 0.0849 - accuracy: 0.9688 - val_loss: 0.3873 - val_accuracy: 0.9007\n",
      "Epoch 17/50\n",
      "1000/1000 [==============================] - 294s 294ms/step - loss: 0.0857 - accuracy: 0.9672 - val_loss: 0.6363 - val_accuracy: 0.7937\n",
      "Epoch 18/50\n",
      "1000/1000 [==============================] - 290s 290ms/step - loss: 0.0795 - accuracy: 0.9718 - val_loss: 0.5346 - val_accuracy: 0.8808\n",
      "Epoch 19/50\n",
      "1000/1000 [==============================] - 292s 292ms/step - loss: 0.0805 - accuracy: 0.9684 - val_loss: 0.7879 - val_accuracy: 0.7805\n",
      "Epoch 20/50\n",
      "1000/1000 [==============================] - 289s 289ms/step - loss: 0.0741 - accuracy: 0.9742 - val_loss: 1.1421 - val_accuracy: 0.8110\n",
      "Epoch 21/50\n",
      "1000/1000 [==============================] - 295s 295ms/step - loss: 0.0775 - accuracy: 0.9711 - val_loss: 0.5649 - val_accuracy: 0.8547\n",
      "Epoch 22/50\n",
      "1000/1000 [==============================] - 292s 292ms/step - loss: 0.0647 - accuracy: 0.9745 - val_loss: 1.8764 - val_accuracy: 0.5825\n",
      "Epoch 23/50\n",
      "1000/1000 [==============================] - 292s 292ms/step - loss: 0.0698 - accuracy: 0.9743 - val_loss: 0.5345 - val_accuracy: 0.8577\n",
      "Epoch 24/50\n",
      "1000/1000 [==============================] - 286s 286ms/step - loss: 0.0669 - accuracy: 0.9760 - val_loss: 2.2964 - val_accuracy: 0.5408\n",
      "Epoch 25/50\n",
      "1000/1000 [==============================] - 286s 286ms/step - loss: 0.0659 - accuracy: 0.9754 - val_loss: 0.8321 - val_accuracy: 0.7655\n",
      "Epoch 26/50\n",
      "1000/1000 [==============================] - 287s 287ms/step - loss: 0.0666 - accuracy: 0.9746 - val_loss: 0.7985 - val_accuracy: 0.7460\n",
      "Epoch 27/50\n",
      "1000/1000 [==============================] - 287s 287ms/step - loss: 0.0668 - accuracy: 0.9747 - val_loss: 0.6285 - val_accuracy: 0.8292\n",
      "Epoch 28/50\n",
      "1000/1000 [==============================] - 288s 288ms/step - loss: 0.0659 - accuracy: 0.9759 - val_loss: 0.9736 - val_accuracy: 0.7398\n",
      "Epoch 29/50\n",
      "1000/1000 [==============================] - 286s 286ms/step - loss: 0.0629 - accuracy: 0.9759 - val_loss: 1.6891 - val_accuracy: 0.6640\n",
      "Epoch 30/50\n",
      "1000/1000 [==============================] - 288s 288ms/step - loss: 0.0629 - accuracy: 0.9774 - val_loss: 0.5657 - val_accuracy: 0.8430\n",
      "Epoch 31/50\n",
      "1000/1000 [==============================] - 292s 292ms/step - loss: 0.0601 - accuracy: 0.9778 - val_loss: 1.5145 - val_accuracy: 0.5458\n",
      "Epoch 32/50\n",
      "1000/1000 [==============================] - 294s 294ms/step - loss: 0.0598 - accuracy: 0.9765 - val_loss: 1.0014 - val_accuracy: 0.5437\n",
      "Epoch 33/50\n",
      "1000/1000 [==============================] - 290s 290ms/step - loss: 0.0563 - accuracy: 0.9793 - val_loss: 2.9821 - val_accuracy: 0.6325\n",
      "Epoch 34/50\n",
      "1000/1000 [==============================] - 290s 290ms/step - loss: 0.0567 - accuracy: 0.9796 - val_loss: 1.1985 - val_accuracy: 0.6035\n",
      "Epoch 35/50\n",
      "1000/1000 [==============================] - 292s 292ms/step - loss: 0.0538 - accuracy: 0.9808 - val_loss: 0.6402 - val_accuracy: 0.7778\n",
      "Epoch 36/50\n",
      "1000/1000 [==============================] - 295s 295ms/step - loss: 0.0512 - accuracy: 0.9824 - val_loss: 0.9513 - val_accuracy: 0.8012\n",
      "Epoch 37/50\n",
      "1000/1000 [==============================] - 292s 292ms/step - loss: 0.0562 - accuracy: 0.9798 - val_loss: 3.3995 - val_accuracy: 0.6095\n",
      "Epoch 38/50\n",
      "1000/1000 [==============================] - 299s 299ms/step - loss: 0.0540 - accuracy: 0.9800 - val_loss: 1.0116 - val_accuracy: 0.8055\n",
      "Epoch 39/50\n",
      "1000/1000 [==============================] - 294s 294ms/step - loss: 0.0504 - accuracy: 0.9806 - val_loss: 1.3134 - val_accuracy: 0.7980\n",
      "Epoch 40/50\n",
      "1000/1000 [==============================] - 291s 291ms/step - loss: 0.0578 - accuracy: 0.9804 - val_loss: 0.9310 - val_accuracy: 0.8077\n",
      "Epoch 41/50\n",
      "1000/1000 [==============================] - 292s 292ms/step - loss: 0.0509 - accuracy: 0.9812 - val_loss: 0.6489 - val_accuracy: 0.8560\n",
      "Epoch 42/50\n",
      "1000/1000 [==============================] - 292s 292ms/step - loss: 0.0541 - accuracy: 0.9805 - val_loss: 1.8452 - val_accuracy: 0.6580\n",
      "Epoch 43/50\n",
      "1000/1000 [==============================] - 292s 292ms/step - loss: 0.0477 - accuracy: 0.9824 - val_loss: 1.5518 - val_accuracy: 0.7385\n",
      "Epoch 44/50\n",
      "1000/1000 [==============================] - 290s 290ms/step - loss: 0.0476 - accuracy: 0.9839 - val_loss: 1.1729 - val_accuracy: 0.8037\n",
      "Epoch 45/50\n",
      "1000/1000 [==============================] - 291s 291ms/step - loss: 0.0529 - accuracy: 0.9820 - val_loss: 0.4811 - val_accuracy: 0.8923\n",
      "Epoch 46/50\n",
      "1000/1000 [==============================] - 294s 294ms/step - loss: 0.0520 - accuracy: 0.9809 - val_loss: 0.5447 - val_accuracy: 0.8692\n",
      "Epoch 47/50\n",
      "1000/1000 [==============================] - 294s 294ms/step - loss: 0.0496 - accuracy: 0.9826 - val_loss: 1.7132 - val_accuracy: 0.6335\n",
      "Epoch 48/50\n",
      "1000/1000 [==============================] - 293s 293ms/step - loss: 0.0519 - accuracy: 0.9812 - val_loss: 1.0471 - val_accuracy: 0.8083\n",
      "Epoch 49/50\n",
      "1000/1000 [==============================] - 293s 293ms/step - loss: 0.0481 - accuracy: 0.9817 - val_loss: 0.8182 - val_accuracy: 0.8558\n",
      "Epoch 50/50\n",
      "1000/1000 [==============================] - 293s 293ms/step - loss: 0.0510 - accuracy: 0.9825 - val_loss: 1.5449 - val_accuracy: 0.5713\n"
     ]
    }
   ],
   "source": [
    "history0 = model0.train_model(train_generator=train_generator,\n",
    "                            valid_generator=valid_generator,\n",
    "                            epochs=50,\n",
    "                            learning_rate=0.0001,\n",
    "                            save_model=\"../weights/efficientnetb7-v0.h5\")\n",
    "\n",
    "pickle_path = \"pickle/efficientnetb7-v0.pickle\"\n",
    "\n",
    "with open(pickle_path, \"wb\") as f:\n",
    "  pickle.dump(history0, f)"
   ]
  },
  {
   "cell_type": "code",
   "execution_count": 49,
   "id": "c22bb318",
   "metadata": {},
   "outputs": [],
   "source": [
    "# v1 training - globalaveragepooling2d layer\n",
    "model = EfficientNet(input_size=(128,128,3), n_freeze=-8, dropout=0.25)"
   ]
  },
  {
   "cell_type": "code",
   "execution_count": 50,
   "id": "a10e0b9d",
   "metadata": {
    "scrolled": true
   },
   "outputs": [
    {
     "name": "stdout",
     "output_type": "stream",
     "text": [
      "Epoch 1/50\n",
      "1000/1000 [==============================] - 345s 299ms/step - loss: 0.5172 - accuracy: 0.7287 - val_loss: 0.8068 - val_accuracy: 0.5518\n",
      "Epoch 2/50\n",
      "1000/1000 [==============================] - 291s 291ms/step - loss: 0.3306 - accuracy: 0.8593 - val_loss: 1.5319 - val_accuracy: 0.5318\n",
      "Epoch 3/50\n",
      "1000/1000 [==============================] - 292s 292ms/step - loss: 0.2511 - accuracy: 0.8971 - val_loss: 1.3559 - val_accuracy: 0.5365\n",
      "Epoch 4/50\n",
      "1000/1000 [==============================] - 292s 292ms/step - loss: 0.1985 - accuracy: 0.9204 - val_loss: 1.6246 - val_accuracy: 0.6108\n",
      "Epoch 5/50\n",
      "1000/1000 [==============================] - 292s 292ms/step - loss: 0.1731 - accuracy: 0.9303 - val_loss: 0.3950 - val_accuracy: 0.8372\n",
      "Epoch 6/50\n",
      "1000/1000 [==============================] - 291s 291ms/step - loss: 0.1525 - accuracy: 0.9403 - val_loss: 1.3889 - val_accuracy: 0.5462\n",
      "Epoch 7/50\n",
      "1000/1000 [==============================] - 293s 293ms/step - loss: 0.1335 - accuracy: 0.9482 - val_loss: 0.7614 - val_accuracy: 0.7682\n",
      "Epoch 8/50\n",
      "1000/1000 [==============================] - 293s 293ms/step - loss: 0.1268 - accuracy: 0.9481 - val_loss: 1.2868 - val_accuracy: 0.6722\n",
      "Epoch 9/50\n",
      "1000/1000 [==============================] - 345s 345ms/step - loss: 0.1134 - accuracy: 0.9549 - val_loss: 0.8277 - val_accuracy: 0.7290\n",
      "Epoch 10/50\n",
      "1000/1000 [==============================] - 290s 290ms/step - loss: 0.1075 - accuracy: 0.9572 - val_loss: 1.4861 - val_accuracy: 0.5295\n",
      "Epoch 11/50\n",
      "1000/1000 [==============================] - 290s 290ms/step - loss: 0.0999 - accuracy: 0.9611 - val_loss: 0.6053 - val_accuracy: 0.8087\n",
      "Epoch 12/50\n",
      "1000/1000 [==============================] - 291s 291ms/step - loss: 0.0991 - accuracy: 0.9606 - val_loss: 0.9137 - val_accuracy: 0.7905\n",
      "Epoch 13/50\n",
      "1000/1000 [==============================] - 291s 291ms/step - loss: 0.0901 - accuracy: 0.9664 - val_loss: 0.5134 - val_accuracy: 0.8167\n",
      "Epoch 14/50\n",
      "1000/1000 [==============================] - 292s 292ms/step - loss: 0.0888 - accuracy: 0.9685 - val_loss: 0.7944 - val_accuracy: 0.7495\n",
      "Epoch 15/50\n",
      "1000/1000 [==============================] - 290s 290ms/step - loss: 0.0834 - accuracy: 0.9682 - val_loss: 0.6855 - val_accuracy: 0.8027\n",
      "Epoch 16/50\n",
      "1000/1000 [==============================] - 321s 321ms/step - loss: 0.0802 - accuracy: 0.9721 - val_loss: 0.7320 - val_accuracy: 0.7968\n",
      "Epoch 17/50\n",
      "1000/1000 [==============================] - 301s 301ms/step - loss: 0.0790 - accuracy: 0.9689 - val_loss: 2.0898 - val_accuracy: 0.6270\n",
      "Epoch 18/50\n",
      "1000/1000 [==============================] - 292s 292ms/step - loss: 0.0759 - accuracy: 0.9715 - val_loss: 0.6087 - val_accuracy: 0.8332\n",
      "Epoch 19/50\n",
      "1000/1000 [==============================] - 292s 292ms/step - loss: 0.0744 - accuracy: 0.9729 - val_loss: 2.0025 - val_accuracy: 0.5880\n",
      "Epoch 20/50\n",
      "1000/1000 [==============================] - 292s 292ms/step - loss: 0.0700 - accuracy: 0.9737 - val_loss: 1.0460 - val_accuracy: 0.7380\n",
      "Epoch 21/50\n",
      "1000/1000 [==============================] - 292s 292ms/step - loss: 0.0721 - accuracy: 0.9741 - val_loss: 0.8558 - val_accuracy: 0.7840\n",
      "Epoch 22/50\n",
      "1000/1000 [==============================] - 359s 359ms/step - loss: 0.0719 - accuracy: 0.9744 - val_loss: 0.5287 - val_accuracy: 0.8357\n",
      "Epoch 23/50\n",
      "1000/1000 [==============================] - 357s 357ms/step - loss: 0.0663 - accuracy: 0.9773 - val_loss: 0.5283 - val_accuracy: 0.8650\n",
      "Epoch 24/50\n",
      "1000/1000 [==============================] - 293s 293ms/step - loss: 0.0651 - accuracy: 0.9760 - val_loss: 1.1604 - val_accuracy: 0.6925\n",
      "Epoch 25/50\n",
      "1000/1000 [==============================] - 290s 290ms/step - loss: 0.0626 - accuracy: 0.9772 - val_loss: 0.5427 - val_accuracy: 0.8425\n",
      "Epoch 26/50\n",
      "1000/1000 [==============================] - 292s 292ms/step - loss: 0.0646 - accuracy: 0.9769 - val_loss: 1.4181 - val_accuracy: 0.6453\n",
      "Epoch 27/50\n",
      "1000/1000 [==============================] - 321s 321ms/step - loss: 0.0594 - accuracy: 0.9778 - val_loss: 1.0451 - val_accuracy: 0.7713\n",
      "Epoch 28/50\n",
      "1000/1000 [==============================] - 371s 371ms/step - loss: 0.0632 - accuracy: 0.9758 - val_loss: 1.8012 - val_accuracy: 0.6755\n",
      "Epoch 29/50\n",
      "1000/1000 [==============================] - 294s 294ms/step - loss: 0.0617 - accuracy: 0.9761 - val_loss: 2.6259 - val_accuracy: 0.5543\n",
      "Epoch 30/50\n",
      "1000/1000 [==============================] - 296s 296ms/step - loss: 0.0635 - accuracy: 0.9761 - val_loss: 2.4142 - val_accuracy: 0.5807\n",
      "Epoch 31/50\n",
      "1000/1000 [==============================] - 294s 294ms/step - loss: 0.0612 - accuracy: 0.9768 - val_loss: 1.1039 - val_accuracy: 0.7602\n",
      "Epoch 32/50\n",
      "1000/1000 [==============================] - 295s 295ms/step - loss: 0.0603 - accuracy: 0.9779 - val_loss: 1.8922 - val_accuracy: 0.5962\n",
      "Epoch 33/50\n",
      "1000/1000 [==============================] - 300s 300ms/step - loss: 0.0593 - accuracy: 0.9806 - val_loss: 0.9734 - val_accuracy: 0.7375\n",
      "Epoch 34/50\n",
      "1000/1000 [==============================] - 318s 318ms/step - loss: 0.0552 - accuracy: 0.9788 - val_loss: 0.9763 - val_accuracy: 0.7990\n",
      "Epoch 35/50\n",
      "1000/1000 [==============================] - 291s 291ms/step - loss: 0.0551 - accuracy: 0.9809 - val_loss: 0.9601 - val_accuracy: 0.7225\n",
      "Epoch 36/50\n",
      "1000/1000 [==============================] - 290s 290ms/step - loss: 0.0520 - accuracy: 0.9796 - val_loss: 2.7014 - val_accuracy: 0.5875\n",
      "Epoch 37/50\n",
      "1000/1000 [==============================] - 291s 291ms/step - loss: 0.0555 - accuracy: 0.9798 - val_loss: 0.4419 - val_accuracy: 0.8857\n",
      "Epoch 38/50\n",
      "1000/1000 [==============================] - 288s 288ms/step - loss: 0.0537 - accuracy: 0.9798 - val_loss: 0.5452 - val_accuracy: 0.8830\n",
      "Epoch 39/50\n",
      "1000/1000 [==============================] - 288s 288ms/step - loss: 0.0549 - accuracy: 0.9808 - val_loss: 0.5493 - val_accuracy: 0.8602\n",
      "Epoch 40/50\n",
      "1000/1000 [==============================] - 288s 288ms/step - loss: 0.0486 - accuracy: 0.9835 - val_loss: 0.9358 - val_accuracy: 0.7650\n",
      "Epoch 41/50\n",
      "1000/1000 [==============================] - 289s 289ms/step - loss: 0.0530 - accuracy: 0.9793 - val_loss: 0.8178 - val_accuracy: 0.8075\n",
      "Epoch 42/50\n",
      "1000/1000 [==============================] - 288s 288ms/step - loss: 0.0525 - accuracy: 0.9806 - val_loss: 0.8732 - val_accuracy: 0.8145\n",
      "Epoch 43/50\n",
      "1000/1000 [==============================] - 288s 288ms/step - loss: 0.0458 - accuracy: 0.9839 - val_loss: 1.2762 - val_accuracy: 0.7165\n",
      "Epoch 44/50\n",
      "1000/1000 [==============================] - 290s 290ms/step - loss: 0.0538 - accuracy: 0.9822 - val_loss: 0.7186 - val_accuracy: 0.8445\n",
      "Epoch 45/50\n",
      "1000/1000 [==============================] - 289s 289ms/step - loss: 0.0487 - accuracy: 0.9831 - val_loss: 1.4670 - val_accuracy: 0.5433\n",
      "Epoch 46/50\n",
      "1000/1000 [==============================] - 291s 290ms/step - loss: 0.0499 - accuracy: 0.9817 - val_loss: 2.6088 - val_accuracy: 0.5318\n",
      "Epoch 47/50\n",
      "1000/1000 [==============================] - 304s 304ms/step - loss: 0.0484 - accuracy: 0.9827 - val_loss: 1.2622 - val_accuracy: 0.6215\n",
      "Epoch 48/50\n",
      "1000/1000 [==============================] - 359s 359ms/step - loss: 0.0452 - accuracy: 0.9834 - val_loss: 0.7057 - val_accuracy: 0.8115\n",
      "Epoch 49/50\n",
      "1000/1000 [==============================] - 294s 294ms/step - loss: 0.0502 - accuracy: 0.9833 - val_loss: 2.7007 - val_accuracy: 0.5445\n",
      "Epoch 50/50\n",
      "1000/1000 [==============================] - 295s 295ms/step - loss: 0.0508 - accuracy: 0.9806 - val_loss: 1.1441 - val_accuracy: 0.7550\n"
     ]
    }
   ],
   "source": [
    "history = model.train_model(train_generator=train_generator,\n",
    "                            valid_generator=valid_generator,\n",
    "                            epochs=50,\n",
    "                            learning_rate=0.0001,\n",
    "                            save_model=\"../weights/efficientnetb7-v1.h5\")\n",
    "\n",
    "pickle_path = \"pickle/efficientnetb7-v1.pickle\"\n",
    "\n",
    "with open(pickle_path, \"wb\") as f:\n",
    "  pickle.dump(history, f)"
   ]
  },
  {
   "cell_type": "markdown",
   "id": "0992b01d",
   "metadata": {},
   "source": [
    "## Model load"
   ]
  },
  {
   "cell_type": "code",
   "execution_count": 24,
   "id": "6660588e",
   "metadata": {},
   "outputs": [],
   "source": [
    "pickle_path = \"pickle/efficientnetb7-v1.pickle\"\n",
    "\n",
    "with open(pickle_path, \"rb\") as f:\n",
    "  history = pickle.load(f)"
   ]
  },
  {
   "cell_type": "code",
   "execution_count": 25,
   "id": "e60c59a2",
   "metadata": {
    "scrolled": true
   },
   "outputs": [
    {
     "data": {
      "image/png": "[encoded data removed]",
      "text/plain": [
       "<Figure size 1080x432 with 2 Axes>"
      ]
     },
     "metadata": {
      "needs_background": "light"
     },
     "output_type": "display_data"
    }
   ],
   "source": [
    "def plot_loss_and_accuracy(history, figsize=(15,6)):\n",
    "  fig, ax = plt.subplots(1, 2, figsize=figsize)\n",
    "  ax[0].plot(history['loss'], label='train_loss')\n",
    "  ax[0].plot(history['val_loss'], label='valid_loss')\n",
    "  ax[0].set_title(\"Loss\")\n",
    "  ax[0].set_xlabel(\"epoch\")\n",
    "  ax[0].set_ylabel(\"loss\")\n",
    "  ax[0].legend()\n",
    "  ax[1].plot(history['accuracy'], label='train_acc')\n",
    "  ax[1].plot(history['val_accuracy'], label='valid_acc')\n",
    "  ax[1].set_title(\"Accuracy\")\n",
    "  ax[1].set_xlabel(\"epoch\")\n",
    "  ax[1].set_ylabel(\"accuracy\")\n",
    "  ax[1].legend()\n",
    "\n",
    "  plt.show()\n",
    "\n",
    "    \n",
    "plot_loss_and_accuracy(history)"
   ]
  },
  {
   "cell_type": "code",
   "execution_count": null,
   "id": "669d9af1",
   "metadata": {},
   "outputs": [],
   "source": []
  }
 ],
 "metadata": {
  "kernelspec": {
   "display_name": "Python 3 (ipykernel)",
   "language": "python",
   "name": "python3"
  },
  "language_info": {
   "codemirror_mode": {
    "name": "ipython",
    "version": 3
   },
   "file_extension": ".py",
   "mimetype": "text/x-python",
   "name": "python",
   "nbconvert_exporter": "python",
   "pygments_lexer": "ipython3",
   "version": "3.10.4"
  },
  "toc": {
   "base_numbering": 1,
   "nav_menu": {},
   "number_sections": true,
   "sideBar": true,
   "skip_h1_title": false,
   "title_cell": "Table of Contents",
   "title_sidebar": "Contents",
   "toc_cell": false,
   "toc_position": {},
   "toc_section_display": true,
   "toc_window_display": true
  }
 },
 "nbformat": 4,
 "nbformat_minor": 5
}
