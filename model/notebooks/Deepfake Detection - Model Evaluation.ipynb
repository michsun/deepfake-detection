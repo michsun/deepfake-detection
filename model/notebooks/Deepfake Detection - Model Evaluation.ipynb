{
 "cells": [
  {
   "cell_type": "markdown",
   "id": "6cd4616c",
   "metadata": {},
   "source": [
    "# Deepfake Detection - Model Evaluation\n",
    "\n",
    "> To ignore the repeated code **start here:** [Evaluation functions](#evaluation-functions)"
   ]
  },
  {
   "cell_type": "markdown",
   "id": "b0e37578",
   "metadata": {},
   "source": [
    "## Setup and Imports"
   ]
  },
  {
   "cell_type": "code",
   "execution_count": 1,
   "id": "63a35a8e",
   "metadata": {},
   "outputs": [
    {
     "data": {
      "text/plain": [
       "'3.9.12'"
      ]
     },
     "execution_count": 1,
     "metadata": {},
     "output_type": "execute_result"
    }
   ],
   "source": [
    "from platform import python_version\n",
    "\n",
    "python_version()"
   ]
  },
  {
   "cell_type": "code",
   "execution_count": 2,
   "id": "2c602685",
   "metadata": {},
   "outputs": [
    {
     "data": {
      "text/plain": [
       "('2.9.1', '2.9.0')"
      ]
     },
     "execution_count": 2,
     "metadata": {},
     "output_type": "execute_result"
    }
   ],
   "source": [
    "import tensorflow as tf\n",
    "from tensorflow import keras\n",
    "\n",
    "tf.__version__, keras.__version__"
   ]
  },
  {
   "cell_type": "code",
   "execution_count": 3,
   "id": "35d0f291",
   "metadata": {},
   "outputs": [
    {
     "name": "stdout",
     "output_type": "stream",
     "text": [
      "Num GPUs Available:  1\n"
     ]
    }
   ],
   "source": [
    "import os\n",
    "\n",
    "# Check GPUs available\n",
    "print(\"Num GPUs Available: \", len(tf.config.list_physical_devices('GPU')))\n",
    "\n",
    "# Enables use of the GPU on a Mac using plaidml (ignore otherwise)"
   ]
  },
  {
   "cell_type": "code",
   "execution_count": 4,
   "id": "171c6744",
   "metadata": {},
   "outputs": [],
   "source": [
    "import cv2\n",
    "import matplotlib.pyplot as plt\n",
    "%matplotlib inline\n",
    "import numpy as np\n",
    "import os\n",
    "import pandas as pd\n",
    "import pickle\n",
    "import random\n",
    "import sys\n",
    "\n",
    "from tqdm import tqdm\n",
    "\n",
    "from typing import List"
   ]
  },
  {
   "cell_type": "markdown",
   "id": "2f558866",
   "metadata": {},
   "source": [
    "## Load dataset"
   ]
  },
  {
   "cell_type": "code",
   "execution_count": 5,
   "id": "74fc1c3b",
   "metadata": {},
   "outputs": [],
   "source": [
    "DATASET_PATH = \"../dataset-sample-faces.csv\""
   ]
  },
  {
   "cell_type": "code",
   "execution_count": 6,
   "id": "a4fdafc5",
   "metadata": {},
   "outputs": [
    {
     "data": {
      "text/html": [
       "<div>\n",
       "<style scoped>\n",
       "    .dataframe tbody tr th:only-of-type {\n",
       "        vertical-align: middle;\n",
       "    }\n",
       "\n",
       "    .dataframe tbody tr th {\n",
       "        vertical-align: top;\n",
       "    }\n",
       "\n",
       "    .dataframe thead th {\n",
       "        text-align: right;\n",
       "    }\n",
       "</style>\n",
       "<table border=\"1\" class=\"dataframe\">\n",
       "  <thead>\n",
       "    <tr style=\"text-align: right;\">\n",
       "      <th></th>\n",
       "      <th>image_filename</th>\n",
       "      <th>image_fullpath</th>\n",
       "      <th>face_confidence</th>\n",
       "      <th>label</th>\n",
       "      <th>video_filename</th>\n",
       "      <th>video_fullpath</th>\n",
       "      <th>video_dataset</th>\n",
       "    </tr>\n",
       "  </thead>\n",
       "  <tbody>\n",
       "    <tr>\n",
       "      <th>0</th>\n",
       "      <td>id0_0000_1.png</td>\n",
       "      <td>../extracted_faces/id0_0000/id0_0000_1.png</td>\n",
       "      <td>0.997610</td>\n",
       "      <td>REAL</td>\n",
       "      <td>id0_0000.mp4</td>\n",
       "      <td>../datasets/Celeb-DF-v2/Celeb-real/id0_0000.mp4</td>\n",
       "      <td>Celeb-DF-v2</td>\n",
       "    </tr>\n",
       "    <tr>\n",
       "      <th>1</th>\n",
       "      <td>id0_0000_15.png</td>\n",
       "      <td>../extracted_faces/id0_0000/id0_0000_15.png</td>\n",
       "      <td>0.996413</td>\n",
       "      <td>REAL</td>\n",
       "      <td>id0_0000.mp4</td>\n",
       "      <td>../datasets/Celeb-DF-v2/Celeb-real/id0_0000.mp4</td>\n",
       "      <td>Celeb-DF-v2</td>\n",
       "    </tr>\n",
       "    <tr>\n",
       "      <th>2</th>\n",
       "      <td>id0_0000_29.png</td>\n",
       "      <td>../extracted_faces/id0_0000/id0_0000_29.png</td>\n",
       "      <td>0.999750</td>\n",
       "      <td>REAL</td>\n",
       "      <td>id0_0000.mp4</td>\n",
       "      <td>../datasets/Celeb-DF-v2/Celeb-real/id0_0000.mp4</td>\n",
       "      <td>Celeb-DF-v2</td>\n",
       "    </tr>\n",
       "    <tr>\n",
       "      <th>3</th>\n",
       "      <td>id0_0000_43.png</td>\n",
       "      <td>../extracted_faces/id0_0000/id0_0000_43.png</td>\n",
       "      <td>0.995511</td>\n",
       "      <td>REAL</td>\n",
       "      <td>id0_0000.mp4</td>\n",
       "      <td>../datasets/Celeb-DF-v2/Celeb-real/id0_0000.mp4</td>\n",
       "      <td>Celeb-DF-v2</td>\n",
       "    </tr>\n",
       "    <tr>\n",
       "      <th>4</th>\n",
       "      <td>id0_0000_57.png</td>\n",
       "      <td>../extracted_faces/id0_0000/id0_0000_57.png</td>\n",
       "      <td>0.997212</td>\n",
       "      <td>REAL</td>\n",
       "      <td>id0_0000.mp4</td>\n",
       "      <td>../datasets/Celeb-DF-v2/Celeb-real/id0_0000.mp4</td>\n",
       "      <td>Celeb-DF-v2</td>\n",
       "    </tr>\n",
       "  </tbody>\n",
       "</table>\n",
       "</div>"
      ],
      "text/plain": [
       "    image_filename                               image_fullpath  \\\n",
       "0   id0_0000_1.png   ../extracted_faces/id0_0000/id0_0000_1.png   \n",
       "1  id0_0000_15.png  ../extracted_faces/id0_0000/id0_0000_15.png   \n",
       "2  id0_0000_29.png  ../extracted_faces/id0_0000/id0_0000_29.png   \n",
       "3  id0_0000_43.png  ../extracted_faces/id0_0000/id0_0000_43.png   \n",
       "4  id0_0000_57.png  ../extracted_faces/id0_0000/id0_0000_57.png   \n",
       "\n",
       "   face_confidence label video_filename  \\\n",
       "0         0.997610  REAL   id0_0000.mp4   \n",
       "1         0.996413  REAL   id0_0000.mp4   \n",
       "2         0.999750  REAL   id0_0000.mp4   \n",
       "3         0.995511  REAL   id0_0000.mp4   \n",
       "4         0.997212  REAL   id0_0000.mp4   \n",
       "\n",
       "                                    video_fullpath video_dataset  \n",
       "0  ../datasets/Celeb-DF-v2/Celeb-real/id0_0000.mp4   Celeb-DF-v2  \n",
       "1  ../datasets/Celeb-DF-v2/Celeb-real/id0_0000.mp4   Celeb-DF-v2  \n",
       "2  ../datasets/Celeb-DF-v2/Celeb-real/id0_0000.mp4   Celeb-DF-v2  \n",
       "3  ../datasets/Celeb-DF-v2/Celeb-real/id0_0000.mp4   Celeb-DF-v2  \n",
       "4  ../datasets/Celeb-DF-v2/Celeb-real/id0_0000.mp4   Celeb-DF-v2  "
      ]
     },
     "execution_count": 6,
     "metadata": {},
     "output_type": "execute_result"
    }
   ],
   "source": [
    "data = pd.read_csv(DATASET_PATH)\n",
    "\n",
    "data.head()"
   ]
  },
  {
   "cell_type": "code",
   "execution_count": 7,
   "id": "e8c0def0",
   "metadata": {},
   "outputs": [
    {
     "ename": "NameError",
     "evalue": "name 'random_path' is not defined",
     "output_type": "error",
     "traceback": [
      "\u001b[1;31m---------------------------------------------------------------------------\u001b[0m",
      "\u001b[1;31mNameError\u001b[0m                                 Traceback (most recent call last)",
      "Input \u001b[1;32mIn [7]\u001b[0m, in \u001b[0;36m<cell line: 1>\u001b[1;34m()\u001b[0m\n\u001b[1;32m----> 1\u001b[0m \u001b[43mrandom_path\u001b[49m\u001b[38;5;241m.\u001b[39mreplace(\u001b[38;5;124m\"\u001b[39m\u001b[38;5;124m/\u001b[39m\u001b[38;5;124m\"\u001b[39m,\u001b[38;5;124m\"\u001b[39m\u001b[38;5;124m\"\u001b[39m)\n",
      "\u001b[1;31mNameError\u001b[0m: name 'random_path' is not defined"
     ]
    }
   ],
   "source": [
    "random_path.replace(\"/\",\"\")"
   ]
  },
  {
   "cell_type": "code",
   "execution_count": null,
   "id": "28ad146f",
   "metadata": {},
   "outputs": [],
   "source": [
    "list(data.columns)"
   ]
  },
  {
   "cell_type": "code",
   "execution_count": null,
   "id": "7f442f0a",
   "metadata": {},
   "outputs": [],
   "source": [
    "data['label'].value_counts()"
   ]
  },
  {
   "cell_type": "code",
   "execution_count": null,
   "id": "478f9805",
   "metadata": {},
   "outputs": [],
   "source": [
    "data = data.sample(n=20000, random_state=42)"
   ]
  },
  {
   "cell_type": "code",
   "execution_count": null,
   "id": "1f5c1fa1",
   "metadata": {},
   "outputs": [],
   "source": [
    "data['label'].value_counts()"
   ]
  },
  {
   "cell_type": "markdown",
   "id": "22778824",
   "metadata": {},
   "source": [
    "Although, there is a slight imbalance in the dataset as seen above, we sampled the number of \"FAKE\" videos equal to the number of \"REAL\" videos in the notebook [Deepfake Detection - Dataset Preparation.ipynb](./Deepfake%20Detection%20-%20Dataset%20Preparation.ipynb)"
   ]
  },
  {
   "cell_type": "markdown",
   "id": "1cc1365d",
   "metadata": {},
   "source": [
    "## Data Splitting\n",
    "\n",
    "To ensure that images from a video in the train dataset is not in the validation/test dataset, a custom split function was made."
   ]
  },
  {
   "cell_type": "code",
   "execution_count": 8,
   "id": "8601c3dc",
   "metadata": {},
   "outputs": [],
   "source": [
    "def split_dataframe(data, test_size, column, shuffle=False, random_state=1):\n",
    "  \"\"\"Splits the dataframe based on unique values in a given \n",
    "  column.\"\"\"\n",
    "  # Gets a list of unique videos \n",
    "  videos = list(data[column].unique())\n",
    "  n = len(videos)\n",
    "  k = int(0.2 * n)\n",
    "\n",
    "  if shuffle:\n",
    "    data = data.sample(frac=1)\n",
    "\n",
    "  # Sets the random state\n",
    "  random.seed(random_state)\n",
    "  split_videos = random.sample(videos, k)\n",
    "\n",
    "  df1 = data[data[column].isin(split_videos)]\n",
    "  df2 = data[~data[column].isin(split_videos)]\n",
    "  \n",
    "  assert(len(df1[df1.isin(df2)].dropna()) == 0)\n",
    "  \n",
    "  df1.sort_index(inplace=True)\n",
    "  df2.sort_index(inplace=True)\n",
    "  \n",
    "  return df2, df1"
   ]
  },
  {
   "cell_type": "code",
   "execution_count": 9,
   "id": "6979b0e9",
   "metadata": {},
   "outputs": [
    {
     "name": "stderr",
     "output_type": "stream",
     "text": [
      "C:\\Users\\Michelle\\AppData\\Local\\Temp\\ipykernel_30104\\1251354954.py:21: SettingWithCopyWarning: \n",
      "A value is trying to be set on a copy of a slice from a DataFrame\n",
      "\n",
      "See the caveats in the documentation: https://pandas.pydata.org/pandas-docs/stable/user_guide/indexing.html#returning-a-view-versus-a-copy\n",
      "  df1.sort_index(inplace=True)\n",
      "C:\\Users\\Michelle\\AppData\\Local\\Temp\\ipykernel_30104\\1251354954.py:22: SettingWithCopyWarning: \n",
      "A value is trying to be set on a copy of a slice from a DataFrame\n",
      "\n",
      "See the caveats in the documentation: https://pandas.pydata.org/pandas-docs/stable/user_guide/indexing.html#returning-a-view-versus-a-copy\n",
      "  df2.sort_index(inplace=True)\n"
     ]
    }
   ],
   "source": [
    "TRAIN_SPLIT = 0.2\n",
    "VAL_SPLIT = 0.25\n",
    "\n",
    "train_df, test_df = split_dataframe(data=data, \n",
    "                                    test_size=TRAIN_SPLIT,\n",
    "                                    column=\"video_filename\",\n",
    "                                    shuffle=True,\n",
    "                                    random_state=42)\n",
    "\n",
    "train_df, val_df = split_dataframe(data=data, \n",
    "                                  test_size=VAL_SPLIT,\n",
    "                                  column=\"video_filename\",\n",
    "                                  random_state=42)"
   ]
  },
  {
   "cell_type": "code",
   "execution_count": 10,
   "id": "c16eab2d",
   "metadata": {},
   "outputs": [
    {
     "data": {
      "text/plain": [
       "REAL    38836\n",
       "FAKE    37156\n",
       "Name: label, dtype: int64"
      ]
     },
     "execution_count": 10,
     "metadata": {},
     "output_type": "execute_result"
    }
   ],
   "source": [
    "train_df['label'].value_counts()"
   ]
  },
  {
   "cell_type": "code",
   "execution_count": 11,
   "id": "5c12a3c8",
   "metadata": {},
   "outputs": [
    {
     "data": {
      "text/plain": [
       "FAKE    9676\n",
       "REAL    9364\n",
       "Name: label, dtype: int64"
      ]
     },
     "execution_count": 11,
     "metadata": {},
     "output_type": "execute_result"
    }
   ],
   "source": [
    "test_df['label'].value_counts()"
   ]
  },
  {
   "cell_type": "code",
   "execution_count": 12,
   "id": "0d529d3e",
   "metadata": {},
   "outputs": [
    {
     "data": {
      "text/plain": [
       "FAKE    9676\n",
       "REAL    9364\n",
       "Name: label, dtype: int64"
      ]
     },
     "execution_count": 12,
     "metadata": {},
     "output_type": "execute_result"
    }
   ],
   "source": [
    "val_df['label'].value_counts()"
   ]
  },
  {
   "cell_type": "markdown",
   "id": "04962d16",
   "metadata": {},
   "source": [
    "## Data Augmentation \n",
    "\n",
    "**Gaussian Noise:**\n",
    "\n",
    "**Random Erasing:** https://arxiv.org/abs/1708.04896\n",
    "    - Source code: https://github.com/zhunzhong07/Random-Erasing"
   ]
  },
  {
   "cell_type": "code",
   "execution_count": 13,
   "id": "c7b618b6",
   "metadata": {},
   "outputs": [],
   "source": [
    "import math\n",
    "import random\n",
    "from keras.preprocessing.image import ImageDataGenerator\n",
    "\n",
    "def gaussian_noise(image, probability):\n",
    "  if random.uniform(0,1) > probability:\n",
    "    return image\n",
    "  row,col,ch= image.shape\n",
    "  mean = 0\n",
    "  var = 0.01 # slightly reduced\n",
    "  sigma = var ** 0.5\n",
    "  gauss = np.random.normal(mean,sigma,(row,col))\n",
    "  noisy = image\n",
    "  for i in range(ch):\n",
    "    noisy[:,:,i] = image[:,:,i] + gauss\n",
    "  return noisy\n",
    "\n",
    "\n",
    "def random_erasing(img, probability):\n",
    "  \"\"\"\n",
    "  Performs Random Erasing in Random Erasing Data Augmentation by Zhong et al.\n",
    "\n",
    "  probability: The probability that the operation will be performed.\n",
    "  sl: min erasing area\n",
    "  sh: max erasing area\n",
    "  r1: min aspect ratio\n",
    "  mean: erasing value\n",
    "\n",
    "  Note: Code modified for img.shape parameters instead of img.size()\n",
    "  \"\"\"\n",
    "  # Source: https://github.com/zhunzhong07/Random-Erasing\n",
    "  if random.uniform(0,1) > probability:\n",
    "    return img\n",
    "\n",
    "  # Default params\n",
    "  mean = [0.4914, 0.4822, 0.4465]\n",
    "  sl = 0.02\n",
    "  sh = 0.4\n",
    "  r1 = 0.3\n",
    "\n",
    "  for attempt in range(100):\n",
    "    area = img.shape[0] * img.shape[1]\n",
    "\n",
    "    target_area = random.uniform(sl, sh) * area\n",
    "    aspect_ratio = random.uniform(r1, 1/r1)\n",
    "\n",
    "    h = int(round(math.sqrt(target_area * aspect_ratio)))\n",
    "    w = int(round(math.sqrt(target_area / aspect_ratio)))\n",
    "\n",
    "    if w < img.shape[0] and h < img.shape[1]:\n",
    "        x1 = random.randint(0, img.shape[1] - h)\n",
    "        y1 = random.randint(0, img.shape[0] - w)\n",
    "        if img.shape[2] == 3:\n",
    "            img[x1:x1+h, y1:y1+w, 0] = mean[0]\n",
    "            img[x1:x1+h, y1:y1+w, 1] = mean[1]\n",
    "            img[x1:x1+h, y1:y1+w, 2] = mean[2]\n",
    "        else:\n",
    "            img[0, x1:x1+h, y1:y1+w] = mean[0]\n",
    "\n",
    "        return img\n",
    "  return img\n",
    "\n",
    "class CustomDataGenerator(ImageDataGenerator):\n",
    "  '''\n",
    "  Custom image data generator.\n",
    "  Allows image compression and random erasing.\n",
    "  '''\n",
    "  def __init__(self, \n",
    "               gaussian_noise : float = 0., \n",
    "               random_erasing : float = 0.,\n",
    "               **kwargs):\n",
    "    super().__init__(preprocessing_function=self.custom_augmentations,\n",
    "                    **kwargs)\n",
    "    self.gaussian_noise = gaussian_noise\n",
    "    self.random_erasing = random_erasing\n",
    "  \n",
    "  def custom_augmentations(self, image):\n",
    "    image = gaussian_noise(image, self.gaussian_noise)\n",
    "    image = random_erasing(image, self.random_erasing)\n",
    "    return image"
   ]
  },
  {
   "cell_type": "code",
   "execution_count": 14,
   "id": "48ab3cf7",
   "metadata": {},
   "outputs": [],
   "source": [
    "train_datagen = CustomDataGenerator(rescale=1./255,\n",
    "                                  zoom_range=0.2,\n",
    "                                  rotation_range=0.1,\n",
    "                                  horizontal_flip=True,\n",
    "                                  # Custom augmentation probabilities\n",
    "                                  gaussian_noise=0.1,\n",
    "                                  random_erasing=0.3)\n",
    "\n",
    "test_datagen = ImageDataGenerator(rescale=1./255)"
   ]
  },
  {
   "cell_type": "code",
   "execution_count": 15,
   "id": "97a39c44",
   "metadata": {},
   "outputs": [
    {
     "name": "stdout",
     "output_type": "stream",
     "text": [
      "Found 75992 validated image filenames belonging to 2 classes.\n",
      "Found 19040 validated image filenames belonging to 2 classes.\n",
      "Found 19040 validated image filenames belonging to 2 classes.\n"
     ]
    }
   ],
   "source": [
    "train_generator = train_datagen.flow_from_dataframe(\n",
    "  dataframe = train_df,\n",
    "  directory = \".\",\n",
    "  x_col = \"image_fullpath\",\n",
    "  y_col = \"label\",\n",
    "  batch_size = 64,\n",
    "  seed = 42,\n",
    "  class_mode = \"binary\",\n",
    "  target_size=(128, 128)\n",
    ")\n",
    "\n",
    "valid_generator = train_datagen.flow_from_dataframe(\n",
    "  dataframe = val_df,\n",
    "  directory = \".\",\n",
    "  x_col = \"image_fullpath\",\n",
    "  y_col = \"label\",\n",
    "  batch_size = 64,\n",
    "  seed = 42,\n",
    "  class_mode = \"binary\",\n",
    "  target_size=(128, 128)\n",
    ")\n",
    "\n",
    "test_generator = test_datagen.flow_from_dataframe(\n",
    "  dataframe = test_df, \n",
    "  directory = \".\",\n",
    "  x_col = \"image_fullpath\",\n",
    "  y_col = \"label\",\n",
    "  batch_size=64,\n",
    "  seed = 42,\n",
    "  shuffle=False,\n",
    "  class_mode=\"binary\",\n",
    "  target_size=(128, 128)\n",
    ")"
   ]
  },
  {
   "cell_type": "markdown",
   "id": "9ab876ff",
   "metadata": {},
   "source": [
    "# Model Evaluations"
   ]
  },
  {
   "cell_type": "markdown",
   "id": "664a3827",
   "metadata": {},
   "source": [
    "<a id='evaluation-functions'></a>\n",
    "\n",
    "## Evaluation Functions\n",
    "\n",
    "To ensure that we are predicting off the videos."
   ]
  },
  {
   "cell_type": "code",
   "execution_count": 16,
   "id": "f4d2d5a2",
   "metadata": {},
   "outputs": [],
   "source": [
    "def model_predict(model, test_generator):\n",
    "    # Runs prediction on test dataset\n",
    "    test_generator.reset()\n",
    "    pred = model.predict(test_generator,steps=len(test_generator), verbose=1)\n",
    "    \n",
    "    # Creates a dictionary to search for the video_filename: array of frame predictions\n",
    "    real_labels = test_generator.labels\n",
    "    filenames = test_generator.filenames\n",
    "    prediction = {}\n",
    "    real_prediction = {}\n",
    "    for f, p, r in zip(filenames, pred, real_labels):\n",
    "        pred_video_filename = test_df[test_df['image_fullpath'] == f]['video_filename'].iloc[0]\n",
    "        if pred_video_filename in prediction.keys():\n",
    "            prediction[pred_video_filename].append(p[0])\n",
    "            real_prediction[pred_video_filename].append(r)\n",
    "        else:\n",
    "            prediction[pred_video_filename] = [ p[0] ]\n",
    "            real_prediction[pred_video_filename] = [r]\n",
    "\n",
    "    # Averages the prediction scores for each video\n",
    "    prediction = { k: sum(v)/len(v) for k,v in prediction.items() }\n",
    "    real_prediction = { k: int(sum(v)/len(v)) for k,v in real_prediction.items() }\n",
    "    \n",
    "    pred_vid_filenames = list(prediction.keys())\n",
    "    pred_vid = list(prediction.values())\n",
    "    real_indices = list(real_prediction.values())\n",
    "    \n",
    "    return pred_vid_filenames, pred_vid, real_indices"
   ]
  },
  {
   "cell_type": "code",
   "execution_count": 17,
   "id": "5745238f",
   "metadata": {},
   "outputs": [],
   "source": [
    "def predict_indices(pred, thresh=0.5):\n",
    "    return [1 if p > thresh else 0 for p in pred ]"
   ]
  },
  {
   "cell_type": "code",
   "execution_count": 18,
   "id": "b9ea4d3f",
   "metadata": {},
   "outputs": [],
   "source": [
    "from sklearn.metrics import classification_report\n",
    "\n",
    "def show_classification_report(test_y, pred_y):\n",
    "    report = classification_report(test_y, pred_y, digits=4, zero_division=0)\n",
    "    print(report)"
   ]
  },
  {
   "cell_type": "code",
   "execution_count": 19,
   "id": "63fc9130",
   "metadata": {},
   "outputs": [],
   "source": [
    "import seaborn as sns\n",
    "from sklearn.metrics import confusion_matrix\n",
    "\n",
    "def show_confusion_matrix(test_y, pred_y, axis_labels):\n",
    "    confusion = confusion_matrix(test_y, pred_y)\n",
    "    confusion_normalized = confusion.astype(\"float\") / confusion.sum(axis=1)\n",
    "    fig, ax = plt.subplots(figsize=(8,8))\n",
    "    ax = sns.heatmap(confusion_normalized, \n",
    "                     xticklabels=axis_labels, \n",
    "                     yticklabels=axis_labels,\n",
    "                     cmap='Blues', \n",
    "                     annot=True,\n",
    "                     fmt = '.2f',\n",
    "                     square = True\n",
    "    )\n",
    "    plt.title(\"Confusion Matrix\")\n",
    "    plt.ylabel(\"True label\")\n",
    "    plt.xlabel(\"Predicted label\")\n",
    "    plt.show()"
   ]
  },
  {
   "cell_type": "markdown",
   "id": "01ec89fb",
   "metadata": {},
   "source": [
    "## ResNet50-v1"
   ]
  },
  {
   "cell_type": "code",
   "execution_count": 150,
   "id": "1f340128",
   "metadata": {},
   "outputs": [],
   "source": [
    "model = keras.models.load_model(\"../weights/resnet50-v0.h5\")"
   ]
  },
  {
   "cell_type": "code",
   "execution_count": 170,
   "id": "81c2a4d8",
   "metadata": {},
   "outputs": [
    {
     "name": "stdout",
     "output_type": "stream",
     "text": [
      "Model: \"sequential_2\"\n",
      "_________________________________________________________________\n",
      " Layer (type)                Output Shape              Param #   \n",
      "=================================================================\n",
      " resnet50 (Functional)       (None, 4, 4, 2048)        23587712  \n",
      "                                                                 \n",
      " flatten_2 (Flatten)         (None, 32768)             0         \n",
      "                                                                 \n",
      " dropout_3 (Dropout)         (None, 32768)             0         \n",
      "                                                                 \n",
      " dense_4 (Dense)             (None, 1)                 32769     \n",
      "                                                                 \n",
      "=================================================================\n",
      "Total params: 23,620,481\n",
      "Trainable params: 15,008,769\n",
      "Non-trainable params: 8,611,712\n",
      "_________________________________________________________________\n"
     ]
    }
   ],
   "source": [
    "model.summary()"
   ]
  },
  {
   "cell_type": "code",
   "execution_count": 154,
   "id": "563abfc5",
   "metadata": {},
   "outputs": [
    {
     "name": "stdout",
     "output_type": "stream",
     "text": [
      "63/63 [==============================] - 27s 426ms/step - loss: 0.6765 - accuracy: 0.5810\n"
     ]
    },
    {
     "data": {
      "text/plain": [
       "(0.6765381097793579, 0.5809999704360962)"
      ]
     },
     "execution_count": 154,
     "metadata": {},
     "output_type": "execute_result"
    }
   ],
   "source": [
    "# Evaluate based on pure image data\n",
    "# Note: Not reflective of acutal deepfake accuracy\n",
    "test_generator.reset()\n",
    "image_loss, image_acc = model.evaluate(test_generator)\n",
    "image_loss, image_acc"
   ]
  },
  {
   "cell_type": "code",
   "execution_count": 146,
   "id": "88fe71ce",
   "metadata": {},
   "outputs": [
    {
     "name": "stdout",
     "output_type": "stream",
     "text": [
      "63/63 [==============================] - 28s 371ms/step\n"
     ]
    }
   ],
   "source": [
    "test_x, pred_y, test_y = model_predict(model, test_generator) "
   ]
  },
  {
   "cell_type": "code",
   "execution_count": 147,
   "id": "475aafaf",
   "metadata": {},
   "outputs": [],
   "source": [
    "# Converts predictions to binary\n",
    "pred_y_indices = predict_indices(pred_y, thresh=0.5)"
   ]
  },
  {
   "cell_type": "code",
   "execution_count": 148,
   "id": "03954906",
   "metadata": {},
   "outputs": [
    {
     "name": "stdout",
     "output_type": "stream",
     "text": [
      "              precision    recall  f1-score   support\n",
      "\n",
      "           0     0.5346    0.6159    0.5724       276\n",
      "           1     0.6187    0.5375    0.5753       320\n",
      "\n",
      "    accuracy                         0.5738       596\n",
      "   macro avg     0.5766    0.5767    0.5738       596\n",
      "weighted avg     0.5798    0.5738    0.5739       596\n",
      "\n"
     ]
    }
   ],
   "source": [
    "show_classification_report(test_y, pred_y_indices)"
   ]
  },
  {
   "cell_type": "code",
   "execution_count": 158,
   "id": "94bc9693",
   "metadata": {
    "scrolled": false
   },
   "outputs": [
    {
     "data": {
      "image/png": "[encoded data removed]",
      "text/plain": [
       "<Figure size 576x576 with 2 Axes>"
      ]
     },
     "metadata": {
      "needs_background": "light"
     },
     "output_type": "display_data"
    }
   ],
   "source": [
    "axis_labels = list(test_generator.class_indices)\n",
    "show_confusion_matrix(test_y, pred_y_indices, axis_labels)"
   ]
  },
  {
   "cell_type": "markdown",
   "id": "df3ef1ab",
   "metadata": {},
   "source": [
    "## ResNet50-v2"
   ]
  },
  {
   "cell_type": "code",
   "execution_count": 159,
   "id": "ed2f8b5b",
   "metadata": {},
   "outputs": [],
   "source": [
    "resnet_model2 = keras.models.load_model(\"../weights/resnet50-v1.h5\")"
   ]
  },
  {
   "cell_type": "code",
   "execution_count": 161,
   "id": "1ebdbc14",
   "metadata": {},
   "outputs": [
    {
     "name": "stdout",
     "output_type": "stream",
     "text": [
      "63/63 [==============================] - 28s 372ms/step - loss: 1.4321 - accuracy: 0.5372\n"
     ]
    },
    {
     "data": {
      "text/plain": [
       "(1.4321459531784058, 0.5372499823570251)"
      ]
     },
     "execution_count": 161,
     "metadata": {},
     "output_type": "execute_result"
    }
   ],
   "source": [
    "test_generator.reset()\n",
    "image_loss, image_acc = resnet_model2.evaluate(test_generator)\n",
    "image_loss, image_acc"
   ]
  },
  {
   "cell_type": "code",
   "execution_count": 162,
   "id": "d55c20e8",
   "metadata": {},
   "outputs": [
    {
     "name": "stdout",
     "output_type": "stream",
     "text": [
      "63/63 [==============================] - 27s 367ms/step\n"
     ]
    }
   ],
   "source": [
    "test_x, pred_y, test_y = model_predict(resnet_model2, test_generator) "
   ]
  },
  {
   "cell_type": "code",
   "execution_count": 165,
   "id": "1e0dd6f4",
   "metadata": {},
   "outputs": [
    {
     "name": "stdout",
     "output_type": "stream",
     "text": [
      "              precision    recall  f1-score   support\n",
      "\n",
      "           0     1.0000    0.0181    0.0356       276\n",
      "           1     0.5415    1.0000    0.7025       320\n",
      "\n",
      "    accuracy                         0.5453       596\n",
      "   macro avg     0.7707    0.5091    0.3691       596\n",
      "weighted avg     0.7538    0.5453    0.3937       596\n",
      "\n"
     ]
    },
    {
     "data": {
      "image/png": "[encoded data removed]",
      "text/plain": [
       "<Figure size 576x576 with 2 Axes>"
      ]
     },
     "metadata": {
      "needs_background": "light"
     },
     "output_type": "display_data"
    }
   ],
   "source": [
    "# Converts predictions to binary\n",
    "pred_y_indices = predict_indices(pred_y, thresh=0.5)\n",
    "\n",
    "show_classification_report(test_y, pred_y_indices)\n",
    "\n",
    "axis_labels = list(test_generator.class_indices)\n",
    "show_confusion_matrix(test_y, pred_y_indices, axis_labels)"
   ]
  },
  {
   "cell_type": "markdown",
   "id": "751e94d1",
   "metadata": {},
   "source": [
    "## EfficientNet-B7"
   ]
  },
  {
   "cell_type": "code",
   "execution_count": 166,
   "id": "cb1a5bbb",
   "metadata": {},
   "outputs": [
    {
     "name": "stdout",
     "output_type": "stream",
     "text": [
      "63/63 [==============================] - 15s 157ms/step - loss: 1.1215 - accuracy: 0.7890\n",
      "63/63 [==============================] - 13s 144ms/step\n"
     ]
    },
    {
     "data": {
      "text/plain": [
       "(1.121543288230896, 0.7889999747276306)"
      ]
     },
     "execution_count": 166,
     "metadata": {},
     "output_type": "execute_result"
    }
   ],
   "source": [
    "effnet = keras.models.load_model(\"../weights/efficientnetb7-v1.h5\")\n",
    "\n",
    "test_generator.reset()\n",
    "image_loss, image_acc = effnet.evaluate(test_generator)\n",
    "test_x, pred_y, test_y = model_predict(effnet, test_generator)\n",
    "\n",
    "image_loss, image_acc"
   ]
  },
  {
   "cell_type": "code",
   "execution_count": 167,
   "id": "e88e3649",
   "metadata": {},
   "outputs": [
    {
     "name": "stdout",
     "output_type": "stream",
     "text": [
      "              precision    recall  f1-score   support\n",
      "\n",
      "           0     0.9524    0.5797    0.7207       276\n",
      "           1     0.7290    0.9750    0.8342       320\n",
      "\n",
      "    accuracy                         0.7919       596\n",
      "   macro avg     0.8407    0.7774    0.7775       596\n",
      "weighted avg     0.8324    0.7919    0.7817       596\n",
      "\n"
     ]
    },
    {
     "data": {
      "image/png": "[encoded data removed]",
      "text/plain": [
       "<Figure size 576x576 with 2 Axes>"
      ]
     },
     "metadata": {
      "needs_background": "light"
     },
     "output_type": "display_data"
    }
   ],
   "source": [
    "# Converts predictions to binary\n",
    "pred_y_indices = predict_indices(pred_y, thresh=0.5)\n",
    "\n",
    "show_classification_report(test_y, pred_y_indices)\n",
    "\n",
    "axis_labels = list(test_generator.class_indices)\n",
    "show_confusion_matrix(test_y, pred_y_indices, axis_labels)"
   ]
  },
  {
   "cell_type": "code",
   "execution_count": 20,
   "id": "4c192739",
   "metadata": {},
   "outputs": [
    {
     "name": "stdout",
     "output_type": "stream",
     "text": [
      "298/298 [==============================] - 76s 229ms/step - loss: 3.0604 - accuracy: 0.5041\n",
      "298/298 [==============================] - 49s 147ms/step\n"
     ]
    },
    {
     "data": {
      "text/plain": [
       "(3.0604100227355957, 0.5041491389274597)"
      ]
     },
     "execution_count": 20,
     "metadata": {},
     "output_type": "execute_result"
    }
   ],
   "source": [
    "# v0 - Flatten\n",
    "effnet = keras.models.load_model(\"../weights/efficientnetb7-v0.h5\")\n",
    "\n",
    "test_generator.reset()\n",
    "image_loss, image_acc = effnet.evaluate(test_generator)\n",
    "test_x, pred_y, test_y = model_predict(effnet, test_generator)\n",
    "\n",
    "image_loss, image_acc"
   ]
  },
  {
   "cell_type": "code",
   "execution_count": 21,
   "id": "23101e42",
   "metadata": {},
   "outputs": [
    {
     "name": "stdout",
     "output_type": "stream",
     "text": [
      "              precision    recall  f1-score   support\n",
      "\n",
      "           0     0.6216    0.0747    0.1333       308\n",
      "           1     0.4974    0.9527    0.6535       296\n",
      "\n",
      "    accuracy                         0.5050       604\n",
      "   macro avg     0.5595    0.5137    0.3934       604\n",
      "weighted avg     0.5607    0.5050    0.3883       604\n",
      "\n"
     ]
    },
    {
     "data": {
      "image/png": "[encoded data removed]",
      "text/plain": [
       "<Figure size 576x576 with 2 Axes>"
      ]
     },
     "metadata": {
      "needs_background": "light"
     },
     "output_type": "display_data"
    }
   ],
   "source": [
    "# Converts predictions to binary\n",
    "pred_y_indices = predict_indices(pred_y, thresh=0.5)\n",
    "\n",
    "show_classification_report(test_y, pred_y_indices)\n",
    "\n",
    "axis_labels = list(test_generator.class_indices)\n",
    "show_confusion_matrix(test_y, pred_y_indices, axis_labels)"
   ]
  },
  {
   "cell_type": "code",
   "execution_count": null,
   "id": "a88eab7b",
   "metadata": {},
   "outputs": [],
   "source": []
  }
 ],
 "metadata": {
  "kernelspec": {
   "display_name": "Python 3 (ipykernel)",
   "language": "python",
   "name": "python3"
  },
  "language_info": {
   "codemirror_mode": {
    "name": "ipython",
    "version": 3
   },
   "file_extension": ".py",
   "mimetype": "text/x-python",
   "name": "python",
   "nbconvert_exporter": "python",
   "pygments_lexer": "ipython3",
   "version": "3.9.12"
  },
  "toc": {
   "base_numbering": 1,
   "nav_menu": {},
   "number_sections": true,
   "sideBar": true,
   "skip_h1_title": false,
   "title_cell": "Table of Contents",
   "title_sidebar": "Contents",
   "toc_cell": false,
   "toc_position": {},
   "toc_section_display": true,
   "toc_window_display": true
  }
 },
 "nbformat": 4,
 "nbformat_minor": 5
}
