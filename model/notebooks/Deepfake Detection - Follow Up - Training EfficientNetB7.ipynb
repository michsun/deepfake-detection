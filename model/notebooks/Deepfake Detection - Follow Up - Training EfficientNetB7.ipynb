{
 "cells": [
  {
   "cell_type": "markdown",
   "id": "6cd4616c",
   "metadata": {},
   "source": [
    "# Deepfake Detection - Model Training EfficientNet"
   ]
  },
  {
   "cell_type": "markdown",
   "id": "93939235",
   "metadata": {},
   "source": [
    "## Setup and Imports"
   ]
  },
  {
   "cell_type": "code",
   "execution_count": 1,
   "id": "63a35a8e",
   "metadata": {},
   "outputs": [
    {
     "data": {
      "text/plain": [
       "'3.9.12'"
      ]
     },
     "execution_count": 1,
     "metadata": {},
     "output_type": "execute_result"
    }
   ],
   "source": [
    "from platform import python_version\n",
    "\n",
    "python_version()"
   ]
  },
  {
   "cell_type": "code",
   "execution_count": 2,
   "id": "fa3bf975",
   "metadata": {},
   "outputs": [],
   "source": [
    "from tensorflow.compat.v1 import ConfigProto\n",
    "from tensorflow.compat.v1 import InteractiveSession\n",
    "config = ConfigProto()\n",
    "config.gpu_options.allow_growth = True\n",
    "session = InteractiveSession(config=config)"
   ]
  },
  {
   "cell_type": "code",
   "execution_count": 3,
   "id": "3fc2f822",
   "metadata": {},
   "outputs": [
    {
     "data": {
      "text/plain": [
       "('2.9.1', '2.9.0')"
      ]
     },
     "execution_count": 3,
     "metadata": {},
     "output_type": "execute_result"
    }
   ],
   "source": [
    "import tensorflow as tf\n",
    "from tensorflow import keras\n",
    "\n",
    "tf.__version__, keras.__version__"
   ]
  },
  {
   "cell_type": "code",
   "execution_count": 4,
   "id": "c8b46fd2",
   "metadata": {},
   "outputs": [
    {
     "name": "stdout",
     "output_type": "stream",
     "text": [
      "Num GPUs Available:  1\n"
     ]
    }
   ],
   "source": [
    "import os\n",
    "\n",
    "# Check GPUs available\n",
    "print(\"Num GPUs Available: \", len(tf.config.list_physical_devices('GPU')))"
   ]
  },
  {
   "cell_type": "code",
   "execution_count": 5,
   "id": "696f75ac",
   "metadata": {},
   "outputs": [],
   "source": [
    "import cv2\n",
    "import matplotlib.pyplot as plt\n",
    "%matplotlib inline\n",
    "import math\n",
    "import numpy as np\n",
    "import os\n",
    "import pandas as pd\n",
    "import pickle\n",
    "import random\n",
    "import sys\n",
    "\n",
    "from tqdm import tqdm\n",
    "\n",
    "from typing import List"
   ]
  },
  {
   "cell_type": "markdown",
   "id": "97af7d92",
   "metadata": {},
   "source": [
    "## Load dataset"
   ]
  },
  {
   "cell_type": "code",
   "execution_count": 6,
   "id": "7973839f",
   "metadata": {},
   "outputs": [],
   "source": [
    "DATASET_PATH = \"../dataset-sample-faces.csv\""
   ]
  },
  {
   "cell_type": "code",
   "execution_count": 7,
   "id": "7558e14f",
   "metadata": {},
   "outputs": [
    {
     "data": {
      "text/html": [
       "<div>\n",
       "<style scoped>\n",
       "    .dataframe tbody tr th:only-of-type {\n",
       "        vertical-align: middle;\n",
       "    }\n",
       "\n",
       "    .dataframe tbody tr th {\n",
       "        vertical-align: top;\n",
       "    }\n",
       "\n",
       "    .dataframe thead th {\n",
       "        text-align: right;\n",
       "    }\n",
       "</style>\n",
       "<table border=\"1\" class=\"dataframe\">\n",
       "  <thead>\n",
       "    <tr style=\"text-align: right;\">\n",
       "      <th></th>\n",
       "      <th>image_filename</th>\n",
       "      <th>image_fullpath</th>\n",
       "      <th>face_confidence</th>\n",
       "      <th>label</th>\n",
       "      <th>video_filename</th>\n",
       "      <th>video_fullpath</th>\n",
       "      <th>video_dataset</th>\n",
       "    </tr>\n",
       "  </thead>\n",
       "  <tbody>\n",
       "    <tr>\n",
       "      <th>0</th>\n",
       "      <td>id0_0000_1.png</td>\n",
       "      <td>../extracted_faces/id0_0000/id0_0000_1.png</td>\n",
       "      <td>0.997610</td>\n",
       "      <td>REAL</td>\n",
       "      <td>id0_0000.mp4</td>\n",
       "      <td>../datasets/Celeb-DF-v2/Celeb-real/id0_0000.mp4</td>\n",
       "      <td>Celeb-DF-v2</td>\n",
       "    </tr>\n",
       "    <tr>\n",
       "      <th>1</th>\n",
       "      <td>id0_0000_15.png</td>\n",
       "      <td>../extracted_faces/id0_0000/id0_0000_15.png</td>\n",
       "      <td>0.996413</td>\n",
       "      <td>REAL</td>\n",
       "      <td>id0_0000.mp4</td>\n",
       "      <td>../datasets/Celeb-DF-v2/Celeb-real/id0_0000.mp4</td>\n",
       "      <td>Celeb-DF-v2</td>\n",
       "    </tr>\n",
       "    <tr>\n",
       "      <th>2</th>\n",
       "      <td>id0_0000_29.png</td>\n",
       "      <td>../extracted_faces/id0_0000/id0_0000_29.png</td>\n",
       "      <td>0.999750</td>\n",
       "      <td>REAL</td>\n",
       "      <td>id0_0000.mp4</td>\n",
       "      <td>../datasets/Celeb-DF-v2/Celeb-real/id0_0000.mp4</td>\n",
       "      <td>Celeb-DF-v2</td>\n",
       "    </tr>\n",
       "    <tr>\n",
       "      <th>3</th>\n",
       "      <td>id0_0000_43.png</td>\n",
       "      <td>../extracted_faces/id0_0000/id0_0000_43.png</td>\n",
       "      <td>0.995511</td>\n",
       "      <td>REAL</td>\n",
       "      <td>id0_0000.mp4</td>\n",
       "      <td>../datasets/Celeb-DF-v2/Celeb-real/id0_0000.mp4</td>\n",
       "      <td>Celeb-DF-v2</td>\n",
       "    </tr>\n",
       "    <tr>\n",
       "      <th>4</th>\n",
       "      <td>id0_0000_57.png</td>\n",
       "      <td>../extracted_faces/id0_0000/id0_0000_57.png</td>\n",
       "      <td>0.997212</td>\n",
       "      <td>REAL</td>\n",
       "      <td>id0_0000.mp4</td>\n",
       "      <td>../datasets/Celeb-DF-v2/Celeb-real/id0_0000.mp4</td>\n",
       "      <td>Celeb-DF-v2</td>\n",
       "    </tr>\n",
       "  </tbody>\n",
       "</table>\n",
       "</div>"
      ],
      "text/plain": [
       "    image_filename                               image_fullpath  \\\n",
       "0   id0_0000_1.png   ../extracted_faces/id0_0000/id0_0000_1.png   \n",
       "1  id0_0000_15.png  ../extracted_faces/id0_0000/id0_0000_15.png   \n",
       "2  id0_0000_29.png  ../extracted_faces/id0_0000/id0_0000_29.png   \n",
       "3  id0_0000_43.png  ../extracted_faces/id0_0000/id0_0000_43.png   \n",
       "4  id0_0000_57.png  ../extracted_faces/id0_0000/id0_0000_57.png   \n",
       "\n",
       "   face_confidence label video_filename  \\\n",
       "0         0.997610  REAL   id0_0000.mp4   \n",
       "1         0.996413  REAL   id0_0000.mp4   \n",
       "2         0.999750  REAL   id0_0000.mp4   \n",
       "3         0.995511  REAL   id0_0000.mp4   \n",
       "4         0.997212  REAL   id0_0000.mp4   \n",
       "\n",
       "                                    video_fullpath video_dataset  \n",
       "0  ../datasets/Celeb-DF-v2/Celeb-real/id0_0000.mp4   Celeb-DF-v2  \n",
       "1  ../datasets/Celeb-DF-v2/Celeb-real/id0_0000.mp4   Celeb-DF-v2  \n",
       "2  ../datasets/Celeb-DF-v2/Celeb-real/id0_0000.mp4   Celeb-DF-v2  \n",
       "3  ../datasets/Celeb-DF-v2/Celeb-real/id0_0000.mp4   Celeb-DF-v2  \n",
       "4  ../datasets/Celeb-DF-v2/Celeb-real/id0_0000.mp4   Celeb-DF-v2  "
      ]
     },
     "execution_count": 7,
     "metadata": {},
     "output_type": "execute_result"
    }
   ],
   "source": [
    "data = pd.read_csv(DATASET_PATH)\n",
    "\n",
    "data.head()"
   ]
  },
  {
   "cell_type": "code",
   "execution_count": 8,
   "id": "ea5cd744",
   "metadata": {},
   "outputs": [
    {
     "data": {
      "text/plain": [
       "['image_filename',\n",
       " 'image_fullpath',\n",
       " 'face_confidence',\n",
       " 'label',\n",
       " 'video_filename',\n",
       " 'video_fullpath',\n",
       " 'video_dataset']"
      ]
     },
     "execution_count": 8,
     "metadata": {},
     "output_type": "execute_result"
    }
   ],
   "source": [
    "list(data.columns)"
   ]
  },
  {
   "cell_type": "code",
   "execution_count": 9,
   "id": "e85f7e49",
   "metadata": {},
   "outputs": [
    {
     "data": {
      "text/plain": [
       "REAL    48200\n",
       "FAKE    46832\n",
       "Name: label, dtype: int64"
      ]
     },
     "execution_count": 9,
     "metadata": {},
     "output_type": "execute_result"
    }
   ],
   "source": [
    "data['label'].value_counts()"
   ]
  },
  {
   "cell_type": "code",
   "execution_count": 10,
   "id": "931d7e41",
   "metadata": {},
   "outputs": [
    {
     "data": {
      "image/png": "[encoded data removed]",
      "text/plain": [
       "<Figure size 432x288 with 1 Axes>"
      ]
     },
     "metadata": {
      "needs_background": "light"
     },
     "output_type": "display_data"
    }
   ],
   "source": [
    "plt.hist(data['face_confidence'], bins=30, range=(0.87, 1.0))\n",
    "plt.show()"
   ]
  },
  {
   "cell_type": "code",
   "execution_count": 11,
   "id": "15f21ffa",
   "metadata": {},
   "outputs": [
    {
     "data": {
      "text/plain": [
       "REAL    47517\n",
       "FAKE    45448\n",
       "Name: label, dtype: int64"
      ]
     },
     "execution_count": 11,
     "metadata": {},
     "output_type": "execute_result"
    }
   ],
   "source": [
    "data[data['face_confidence'] > 0.95]['label'].value_counts()"
   ]
  },
  {
   "cell_type": "code",
   "execution_count": 12,
   "id": "39ba510e",
   "metadata": {},
   "outputs": [],
   "source": [
    "data = data[data['face_confidence'] > 0.95]"
   ]
  },
  {
   "cell_type": "code",
   "execution_count": 13,
   "id": "29db191d",
   "metadata": {},
   "outputs": [],
   "source": [
    "# data = data.sample(n=40000, random_state=42)"
   ]
  },
  {
   "cell_type": "code",
   "execution_count": 14,
   "id": "41cb2ddb",
   "metadata": {},
   "outputs": [
    {
     "data": {
      "text/plain": [
       "REAL    47517\n",
       "FAKE    45448\n",
       "Name: label, dtype: int64"
      ]
     },
     "execution_count": 14,
     "metadata": {},
     "output_type": "execute_result"
    }
   ],
   "source": [
    "data['label'].value_counts()"
   ]
  },
  {
   "cell_type": "markdown",
   "id": "25cf6e75",
   "metadata": {},
   "source": [
    "Although, there is a slight imbalance in the dataset as seen above, we sampled the number of \"FAKE\" videos equal to the number of \"REAL\" videos in the notebook [Deepfake Detection - Dataset Preparation.ipynb](./Deepfake%20Detection%20-%20Dataset%20Preparation.ipynb)"
   ]
  },
  {
   "cell_type": "markdown",
   "id": "b524eddc",
   "metadata": {},
   "source": [
    "## Data Splitting\n",
    "\n",
    "To ensure that images from a video in the train dataset is not in the validation/test dataset, a custom split function was made."
   ]
  },
  {
   "cell_type": "code",
   "execution_count": 15,
   "id": "c3c1a691",
   "metadata": {},
   "outputs": [],
   "source": [
    "def split_dataframe(data, test_size, column, shuffle=False, random_state=1):\n",
    "  \"\"\"Splits the dataframe based on unique values in a given \n",
    "  column.\"\"\"\n",
    "  # Gets a list of unique videos \n",
    "  videos = list(data[column].unique())\n",
    "  n = len(videos)\n",
    "  k = int(0.2 * n)\n",
    "\n",
    "  if shuffle:\n",
    "    data = data.sample(frac=1)\n",
    "\n",
    "  # Sets the random state\n",
    "  random.seed(random_state)\n",
    "  split_videos = random.sample(videos, k)\n",
    "\n",
    "  df1 = data[data[column].isin(split_videos)]\n",
    "  df2 = data[~data[column].isin(split_videos)]\n",
    "  \n",
    "  assert(len(df1[df1.isin(df2)].dropna()) == 0)\n",
    "  \n",
    "  df1.sort_index(inplace=True)\n",
    "  df2.sort_index(inplace=True)\n",
    "  \n",
    "  return df2, df1"
   ]
  },
  {
   "cell_type": "code",
   "execution_count": 16,
   "id": "bd721fdc",
   "metadata": {},
   "outputs": [
    {
     "name": "stderr",
     "output_type": "stream",
     "text": [
      "C:\\Users\\Michelle\\AppData\\Local\\Temp\\ipykernel_12004\\1251354954.py:21: SettingWithCopyWarning: \n",
      "A value is trying to be set on a copy of a slice from a DataFrame\n",
      "\n",
      "See the caveats in the documentation: https://pandas.pydata.org/pandas-docs/stable/user_guide/indexing.html#returning-a-view-versus-a-copy\n",
      "  df1.sort_index(inplace=True)\n",
      "C:\\Users\\Michelle\\AppData\\Local\\Temp\\ipykernel_12004\\1251354954.py:22: SettingWithCopyWarning: \n",
      "A value is trying to be set on a copy of a slice from a DataFrame\n",
      "\n",
      "See the caveats in the documentation: https://pandas.pydata.org/pandas-docs/stable/user_guide/indexing.html#returning-a-view-versus-a-copy\n",
      "  df2.sort_index(inplace=True)\n"
     ]
    }
   ],
   "source": [
    "TRAIN_SPLIT = 0.2\n",
    "VAL_SPLIT = 0.25\n",
    "\n",
    "train_df, test_df = split_dataframe(data=data, \n",
    "                                    test_size=TRAIN_SPLIT,\n",
    "                                    column=\"video_filename\",\n",
    "                                    shuffle=True,\n",
    "                                    random_state=42)\n",
    "\n",
    "train_df, val_df = split_dataframe(data=data, \n",
    "                                  test_size=VAL_SPLIT,\n",
    "                                  column=\"video_filename\",\n",
    "                                  random_state=42)"
   ]
  },
  {
   "cell_type": "code",
   "execution_count": 17,
   "id": "a12d3423",
   "metadata": {},
   "outputs": [
    {
     "data": {
      "text/plain": [
       "REAL    38439\n",
       "FAKE    36143\n",
       "Name: label, dtype: int64"
      ]
     },
     "execution_count": 17,
     "metadata": {},
     "output_type": "execute_result"
    }
   ],
   "source": [
    "train_df['label'].value_counts()"
   ]
  },
  {
   "cell_type": "code",
   "execution_count": 18,
   "id": "67c8b4fc",
   "metadata": {},
   "outputs": [
    {
     "data": {
      "text/plain": [
       "FAKE    9305\n",
       "REAL    9078\n",
       "Name: label, dtype: int64"
      ]
     },
     "execution_count": 18,
     "metadata": {},
     "output_type": "execute_result"
    }
   ],
   "source": [
    "test_df['label'].value_counts()"
   ]
  },
  {
   "cell_type": "code",
   "execution_count": 19,
   "id": "66b16e77",
   "metadata": {},
   "outputs": [
    {
     "data": {
      "text/plain": [
       "FAKE    9305\n",
       "REAL    9078\n",
       "Name: label, dtype: int64"
      ]
     },
     "execution_count": 19,
     "metadata": {},
     "output_type": "execute_result"
    }
   ],
   "source": [
    "val_df['label'].value_counts()"
   ]
  },
  {
   "cell_type": "markdown",
   "id": "3ba6de22",
   "metadata": {},
   "source": [
    "## Data Augmentation \n",
    "\n",
    "**Gaussian Noise:**\n",
    "\n",
    "**Random Erasing:** https://arxiv.org/abs/1708.04896\n",
    "    - Source code: https://github.com/zhunzhong07/Random-Erasing"
   ]
  },
  {
   "cell_type": "code",
   "execution_count": 20,
   "id": "608b58ca",
   "metadata": {},
   "outputs": [],
   "source": [
    "def compress_image(image, quality_lower=0.6, quality_higher=1.0, probability=0.5):\n",
    "  if random.uniform(0,1) > probability:\n",
    "    return image\n",
    "  \n",
    "  scale = random.uniform(quality_lower, quality_higher)\n",
    "  w = image.shape[0]\n",
    "  nw = int(image.shape[0] * scale)\n",
    "  image = cv2.resize(image, (nw, nw), cv2.INTER_AREA)\n",
    "  image = cv2.resize(image, (w,w), cv2.INTER_AREA)\n",
    "  return image"
   ]
  },
  {
   "cell_type": "code",
   "execution_count": 23,
   "id": "f82716d8",
   "metadata": {},
   "outputs": [],
   "source": [
    "def gaussian_noise(image, probability=0.1):\n",
    "  if random.uniform(0,1) > probability:\n",
    "    return image\n",
    "  row,col,ch= image.shape\n",
    "  mean = 0\n",
    "  var = 0.01 # slightly reduced\n",
    "  sigma = var ** 0.5\n",
    "  gauss = np.random.normal(mean,sigma,(row,col))\n",
    "  noisy = image\n",
    "  for i in range(ch):\n",
    "    noisy[:,:,i] = image[:,:,i] + gauss\n",
    "  return noisy"
   ]
  },
  {
   "cell_type": "code",
   "execution_count": 21,
   "id": "b7c0da86",
   "metadata": {},
   "outputs": [],
   "source": [
    "def gaussian_blur(image, blur_limit=3, probability=0.05):\n",
    "  if random.uniform(0,1) > probability:\n",
    "    return image\n",
    "  blurred = cv2.GaussianBlur(image, (blur_limit, blur_limit), 0)\n",
    "  return blurred"
   ]
  },
  {
   "cell_type": "code",
   "execution_count": 22,
   "id": "587b8796",
   "metadata": {},
   "outputs": [],
   "source": [
    "def to_gray(image, probability=0.2):\n",
    "  if random.uniform(0,1) > probability:\n",
    "    return image\n",
    "  gray = cv2.cvtColor(image, cv2.COLOR_BGR2GRAY)\n",
    "  image = cv2.cvtColor(gray, cv2.COLOR_GRAY2BGR)\n",
    "  return image"
   ]
  },
  {
   "cell_type": "code",
   "execution_count": 25,
   "id": "abfd4418",
   "metadata": {},
   "outputs": [],
   "source": [
    "def random_erasing(img, probability=0.5):\n",
    "  \"\"\"\n",
    "  Performs Random Erasing in Random Erasing Data Augmentation by Zhong et al.\n",
    "\n",
    "  probability: The probability that the operation will be performed.\n",
    "  sl: min erasing area\n",
    "  sh: max erasing area\n",
    "  r1: min aspect ratio\n",
    "  mean: erasing value\n",
    "\n",
    "  Note: Code modified for img.shape parameters instead of img.size()\n",
    "  \"\"\"\n",
    "  # Source: https://github.com/zhunzhong07/Random-Erasing\n",
    "  if random.uniform(0,1) > probability:\n",
    "    return img\n",
    "\n",
    "  # Default params\n",
    "#   mean = [0.4914, 0.4822, 0.4465]\n",
    "#   mean = [ int(mean[0] * 256), int(mean[1] * 256), int(mean[2] * 256)]\n",
    "  mean = [0,0,0]\n",
    "  sl = 0.02\n",
    "  sh = 0.4\n",
    "  r1 = 0.3\n",
    "\n",
    "  for attempt in range(100):\n",
    "    area = img.shape[0] * img.shape[1]\n",
    "\n",
    "    target_area = random.uniform(sl, sh) * area\n",
    "    aspect_ratio = random.uniform(r1, 1/r1)\n",
    "\n",
    "    h = int(round(math.sqrt(target_area * aspect_ratio)))\n",
    "    w = int(round(math.sqrt(target_area / aspect_ratio)))\n",
    "\n",
    "    if w < img.shape[0] and h < img.shape[1]:\n",
    "        x1 = random.randint(0, img.shape[1] - h)\n",
    "        y1 = random.randint(0, img.shape[0] - w)\n",
    "        if img.shape[2] == 3:\n",
    "            img[x1:x1+h, y1:y1+w, 0] = mean[0]\n",
    "            img[x1:x1+h, y1:y1+w, 1] = mean[1]\n",
    "            img[x1:x1+h, y1:y1+w, 2] = mean[2]\n",
    "        else:\n",
    "            img[0, x1:x1+h, y1:y1+w] = mean[0]\n",
    "\n",
    "        return img\n",
    "  return img"
   ]
  },
  {
   "cell_type": "code",
   "execution_count": 26,
   "id": "a74f09f4",
   "metadata": {},
   "outputs": [
    {
     "data": {
      "image/png": "[encoded data removed]",
      "text/plain": [
       "<Figure size 864x576 with 2 Axes>"
      ]
     },
     "metadata": {
      "needs_background": "light"
     },
     "output_type": "display_data"
    }
   ],
   "source": [
    "random_image_path = \"../extracted_faces/01__kitchen_pan/01__kitchen_pan_1.png\"\n",
    "\n",
    "fig, ax = plt.subplots(2,1,figsize=(12,8))\n",
    "img1 = cv2.imread(random_image_path)\n",
    "img2 = random_erasing(img1, probability=1.0)\n",
    "ax[0].imshow(cv2.cvtColor(img1, cv2.COLOR_BGR2RGB))\n",
    "ax[0].set_title(img1.shape, fontsize=14)\n",
    "ax[0].axis('off')\n",
    "ax[1].imshow(cv2.cvtColor(img2, cv2.COLOR_BGR2RGB))\n",
    "ax[1].set_title(img2.shape, fontsize=14)\n",
    "ax[1].axis('off')\n",
    "plt.show()"
   ]
  },
  {
   "cell_type": "code",
   "execution_count": 68,
   "id": "26f51b14",
   "metadata": {},
   "outputs": [],
   "source": [
    "from keras.preprocessing.image import ImageDataGenerator\n",
    "\n",
    "class CustomDataGenerator(ImageDataGenerator):\n",
    "  '''\n",
    "  Custom image data generator.\n",
    "  Allows image compression and random erasing.\n",
    "  '''\n",
    "  def __init__(self, \n",
    "               gaussian_noise : float = 0., \n",
    "               random_erasing : float = 0.,\n",
    "               **kwargs):\n",
    "    super().__init__(preprocessing_function=self.custom_augmentations,\n",
    "                    **kwargs)\n",
    "  \n",
    "  def custom_augmentations(self, image):\n",
    "    image = compress_image(image)\n",
    "    image = gaussian_noise(image)\n",
    "    image = gaussian_blur(image)\n",
    "    image = to_gray(image)\n",
    "    image = random_erasing(image)\n",
    "    return image"
   ]
  },
  {
   "cell_type": "code",
   "execution_count": 69,
   "id": "631b2157",
   "metadata": {},
   "outputs": [],
   "source": [
    "train_datagen = CustomDataGenerator(rescale=1./255,\n",
    "                                  zoom_range=0.2,\n",
    "                                  rotation_range=0.1,\n",
    "                                  horizontal_flip=True,\n",
    "                                  brightness_range=[0.5, 1.5],\n",
    "                                    \n",
    "                                  # Custom augmentation probabilities\n",
    "                                    )\n",
    "\n",
    "test_datagen = ImageDataGenerator(rescale=1./255)"
   ]
  },
  {
   "cell_type": "code",
   "execution_count": 85,
   "id": "a4d7ad64",
   "metadata": {},
   "outputs": [
    {
     "name": "stdout",
     "output_type": "stream",
     "text": [
      "Found 74582 validated image filenames belonging to 2 classes.\n",
      "Found 18383 validated image filenames belonging to 2 classes.\n",
      "Found 18383 validated image filenames belonging to 2 classes.\n"
     ]
    }
   ],
   "source": [
    "IMAGE_DIM = 256\n",
    "BATCH_SIZE = 16\n",
    "\n",
    "train_generator = train_datagen.flow_from_dataframe(\n",
    "  dataframe = train_df,\n",
    "  directory = \".\",\n",
    "  x_col = \"image_fullpath\",\n",
    "  y_col = \"label\",\n",
    "  batch_size = BATCH_SIZE,\n",
    "  seed = 42,\n",
    "  class_mode = \"binary\",\n",
    "  target_size=(IMAGE_DIM, IMAGE_DIM)\n",
    ")\n",
    "\n",
    "valid_generator = train_datagen.flow_from_dataframe(\n",
    "  dataframe = val_df,\n",
    "  directory = \".\",\n",
    "  x_col = \"image_fullpath\",\n",
    "  y_col = \"label\",\n",
    "  batch_size = BATCH_SIZE,\n",
    "  seed = 42,\n",
    "  class_mode = \"binary\",\n",
    "  target_size=(IMAGE_DIM, IMAGE_DIM)\n",
    ")\n",
    "\n",
    "test_generator = test_datagen.flow_from_dataframe(\n",
    "  dataframe = test_df, \n",
    "  directory = \".\",\n",
    "  x_col = \"image_fullpath\",\n",
    "  y_col = \"label\",\n",
    "  batch_size=BATCH_SIZE,\n",
    "  seed = 42,\n",
    "  shuffle=False,\n",
    "  class_mode=\"binary\",\n",
    "  target_size=(IMAGE_DIM, IMAGE_DIM)\n",
    ")"
   ]
  },
  {
   "cell_type": "markdown",
   "id": "8ebb5bab",
   "metadata": {},
   "source": [
    "## EfficientNet Model"
   ]
  },
  {
   "cell_type": "code",
   "execution_count": 86,
   "id": "817778c9",
   "metadata": {},
   "outputs": [],
   "source": [
    "class EfficientNet:\n",
    "    def __init__(self, input_size, n_freeze=None, dropout=0.5):\n",
    "        self.input_size = input_size\n",
    "        self.n_freeze = n_freeze\n",
    "        self.dropout = dropout\n",
    "        self.model = self._initialise_model()\n",
    "        self.history = None\n",
    "    \n",
    "    def _initialise_model(self):\n",
    "        input_t = keras.Input(shape=self.input_size)\n",
    "        base_model = keras.applications.EfficientNetB7(\n",
    "            include_top=False,\n",
    "            weights=\"imagenet\",\n",
    "            input_tensor=input_t,\n",
    "        )\n",
    "        if self.n_freeze:\n",
    "            for layer in base_model.layers[:self.n_freeze]:\n",
    "                layer.trainable = False\n",
    "        else:\n",
    "            base_model.trainable=False\n",
    "        model = keras.models.Sequential()\n",
    "        model.add(base_model)\n",
    "        model.add(keras.layers.GlobalAveragePooling2D()) # v1\n",
    "#         model.add(keras.layers.Flatten()) # v0\n",
    "#         model.add(keras.layers.BatchNormalization())\n",
    "        model.add(keras.layers.Dropout(self.dropout))\n",
    "        model.add(keras.layers.Dense(1, activation='sigmoid'))\n",
    "        return model\n",
    "    \n",
    "    def train_model(self, train_generator, valid_generator,\n",
    "                   epochs, learning_rate=0.0001,\n",
    "                   save_model:str=None,\n",
    "                   verbose=1):\n",
    "        train_generator.reset()\n",
    "        valid_generator.reset()\n",
    "        train_steps = len(train_generator)\n",
    "        val_steps = len(valid_generator)\n",
    "        check_point = keras.callbacks.ModelCheckpoint(\n",
    "            filepath=\"../weights/efficientnetb7-v3-{epoch:02d}.hdf5\",\n",
    "            monitor=\"val_loss\",\n",
    "            save_best_only=True\n",
    "        )\n",
    "        learning_rate_fn = tf.keras.optimizers.schedules.PolynomialDecay(\n",
    "            initial_learning_rate=learning_rate,\n",
    "            decay_steps=10000,\n",
    "            end_learning_rate=0.0001,\n",
    "            power=0.9\n",
    "        )\n",
    "        self.model.compile(\n",
    "            loss=tf.keras.losses.BinaryCrossentropy(label_smoothing=0.01),\n",
    "#             loss='binary_crossentropy',\n",
    "#             optimizer=tf.keras.optimizers.RMSprop(learning_rate=learning_rate),\n",
    "            optimizer=tf.keras.optimizers.SGD(learning_rate=learning_rate_fn, momentum=0.9),\n",
    "            metrics=['accuracy']\n",
    "        )\n",
    "        self.history = self.model.fit(\n",
    "            train_generator,\n",
    "            steps_per_epoch=train_steps,\n",
    "            epochs=epochs,\n",
    "            validation_data=valid_generator,\n",
    "            validation_steps=val_steps,\n",
    "            verbose=verbose,\n",
    "            callbacks=[check_point]\n",
    "        )\n",
    "        \n",
    "        if save_model is not None:\n",
    "          self.save_model(save_model)\n",
    "        return self.history.history\n",
    "\n",
    "    def save_model(self,filepath):\n",
    "        self.model.save(filepath)\n",
    "\n",
    "    def get_history(self):\n",
    "        return self.history.history"
   ]
  },
  {
   "cell_type": "code",
   "execution_count": 87,
   "id": "981a02bb",
   "metadata": {},
   "outputs": [],
   "source": [
    "model = EfficientNet(input_size=(IMAGE_DIM, IMAGE_DIM,3), dropout=0.25)"
   ]
  },
  {
   "cell_type": "code",
   "execution_count": null,
   "id": "831fc279",
   "metadata": {},
   "outputs": [
    {
     "name": "stdout",
     "output_type": "stream",
     "text": [
      "Epoch 1/30\n",
      "1163/4662 [======>.......................] - ETA: 13:42 - loss: 0.7170 - accuracy: 0.5030"
     ]
    }
   ],
   "source": [
    "history = model.train_model(train_generator=train_generator,\n",
    "                            valid_generator=valid_generator,\n",
    "                            epochs=30,\n",
    "                            learning_rate=0.01,\n",
    "                            save_model=\"../weights/efficientnetb7-v3.h5\")\n",
    "\n",
    "pickle_path = \"pickle/efficientnetb7-v3.pickle\"\n",
    "\n",
    "with open(pickle_path, \"wb\") as f:\n",
    "  pickle.dump(history, f)"
   ]
  },
  {
   "cell_type": "markdown",
   "id": "0992b01d",
   "metadata": {},
   "source": [
    "## Model load"
   ]
  },
  {
   "cell_type": "code",
   "execution_count": 24,
   "id": "6660588e",
   "metadata": {},
   "outputs": [],
   "source": [
    "pickle_path = \"pickle/efficientnetb7-v3.pickle\"\n",
    "\n",
    "with open(pickle_path, \"rb\") as f:\n",
    "  history = pickle.load(f)"
   ]
  },
  {
   "cell_type": "code",
   "execution_count": 26,
   "id": "e60c59a2",
   "metadata": {
    "scrolled": false
   },
   "outputs": [],
   "source": [
    "def plot_loss_and_accuracy(history, figsize=(15,6)):\n",
    "  fig, ax = plt.subplots(1, 2, figsize=figsize)\n",
    "  ax[0].plot(history['loss'], label='train_loss')\n",
    "  ax[0].plot(history['val_loss'], label='valid_loss')\n",
    "  ax[0].set_title(\"Loss\")\n",
    "  ax[0].set_xlabel(\"epoch\")\n",
    "  ax[0].set_ylabel(\"loss\")\n",
    "  ax[0].legend()\n",
    "  ax[1].plot(history['accuracy'], label='train_acc')\n",
    "  ax[1].plot(history['val_accuracy'], label='valid_acc')\n",
    "  ax[1].set_title(\"Accuracy\")\n",
    "  ax[1].set_xlabel(\"epoch\")\n",
    "  ax[1].set_ylabel(\"accuracy\")\n",
    "  ax[1].legend()\n",
    "\n",
    "  plt.show()\n",
    "\n",
    "    \n",
    "# plot_loss_and_accuracy(history)"
   ]
  },
  {
   "cell_type": "code",
   "execution_count": null,
   "id": "669d9af1",
   "metadata": {},
   "outputs": [],
   "source": []
  },
  {
   "cell_type": "code",
   "execution_count": null,
   "id": "5871fe50",
   "metadata": {},
   "outputs": [],
   "source": []
  },
  {
   "cell_type": "markdown",
   "id": "d833c536",
   "metadata": {},
   "source": [
    "## Model Evaluations"
   ]
  },
  {
   "cell_type": "code",
   "execution_count": 21,
   "id": "aa4c6d5a",
   "metadata": {},
   "outputs": [],
   "source": [
    "def model_predict(model, test_generator):\n",
    "    # Runs prediction on test dataset\n",
    "    test_generator.reset()\n",
    "    pred = model.predict(test_generator,steps=len(test_generator), verbose=1)\n",
    "    \n",
    "    # Creates a dictionary to search for the video_filename: array of frame predictions\n",
    "    real_labels = test_generator.labels\n",
    "    filenames = test_generator.filenames\n",
    "    prediction = {}\n",
    "    real_prediction = {}\n",
    "    for f, p, r in zip(filenames, pred, real_labels):\n",
    "        pred_video_filename = test_df[test_df['image_fullpath'] == f]['video_filename'].iloc[0]\n",
    "        if pred_video_filename in prediction.keys():\n",
    "            prediction[pred_video_filename].append(p[0])\n",
    "            real_prediction[pred_video_filename].append(r)\n",
    "        else:\n",
    "            prediction[pred_video_filename] = [ p[0] ]\n",
    "            real_prediction[pred_video_filename] = [r]\n",
    "\n",
    "    # Averages the prediction scores for each video\n",
    "    prediction = { k: sum(v)/len(v) for k,v in prediction.items() }\n",
    "    real_prediction = { k: int(sum(v)/len(v)) for k,v in real_prediction.items() }\n",
    "    \n",
    "    pred_vid_filenames = list(prediction.keys())\n",
    "    pred_vid = list(prediction.values())\n",
    "    real_indices = list(real_prediction.values())\n",
    "    \n",
    "    return pred_vid_filenames, pred_vid, real_indices\n",
    "\n",
    "def predict_indices(pred, thresh=0.5):\n",
    "    return [1 if p > thresh else 0 for p in pred ]\n",
    "\n",
    "from sklearn.metrics import classification_report\n",
    "\n",
    "def show_classification_report(test_y, pred_y):\n",
    "    report = classification_report(test_y, pred_y, digits=4, zero_division=0)\n",
    "    print(report)\n",
    "    \n",
    "import seaborn as sns\n",
    "from sklearn.metrics import confusion_matrix\n",
    "\n",
    "def show_confusion_matrix(test_y, pred_y, axis_labels):\n",
    "    confusion = confusion_matrix(test_y, pred_y)\n",
    "    confusion_normalized = confusion.astype(\"float\") / confusion.sum(axis=1)\n",
    "    fig, ax = plt.subplots(figsize=(8,8))\n",
    "    ax = sns.heatmap(confusion_normalized, \n",
    "                     xticklabels=axis_labels, \n",
    "                     yticklabels=axis_labels,\n",
    "                     cmap='Blues', \n",
    "                     annot=True,\n",
    "                     fmt = '.2f',\n",
    "                     square = True\n",
    "    )\n",
    "    plt.title(\"Confusion Matrix\")\n",
    "    plt.ylabel(\"True label\")\n",
    "    plt.xlabel(\"Predicted label\")\n",
    "    plt.show()"
   ]
  },
  {
   "cell_type": "code",
   "execution_count": 24,
   "id": "dbd77d7e",
   "metadata": {},
   "outputs": [
    {
     "name": "stdout",
     "output_type": "stream",
     "text": [
      "1998/1998 [==============================] - 1366s 682ms/step - loss: 0.2194 - accuracy: 0.9262\n",
      "1998/1998 [==============================] - 1418s 708ms/step\n"
     ]
    },
    {
     "data": {
      "text/plain": [
       "(0.21942657232284546, 0.9261577129364014)"
      ]
     },
     "execution_count": 24,
     "metadata": {},
     "output_type": "execute_result"
    }
   ],
   "source": [
    "# v0 - Flatten\n",
    "effnet = keras.models.load_model(\"../weights/efficientnetb7-v7-02.hdf5\")\n",
    "\n",
    "test_generator.reset()\n",
    "image_loss, image_acc = effnet.evaluate(test_generator)\n",
    "test_x, pred_y, test_y = model_predict(effnet, test_generator)\n",
    "\n",
    "image_loss, image_acc "
   ]
  },
  {
   "cell_type": "code",
   "execution_count": 27,
   "id": "12a5f100",
   "metadata": {},
   "outputs": [
    {
     "name": "stdout",
     "output_type": "stream",
     "text": [
      "Image loss     : 0.21942657232284546\n",
      "Image accuracy : 0.9261577129364014\n"
     ]
    }
   ],
   "source": [
    "print(\"Image loss     :\", image_loss)\n",
    "print(\"Image accuracy :\", image_acc)"
   ]
  },
  {
   "cell_type": "code",
   "execution_count": 25,
   "id": "4eaf7819",
   "metadata": {},
   "outputs": [
    {
     "name": "stdout",
     "output_type": "stream",
     "text": [
      "              precision    recall  f1-score   support\n",
      "\n",
      "           0     0.9537    0.9606    0.9571       279\n",
      "           1     0.9655    0.9595    0.9625       321\n",
      "\n",
      "    accuracy                         0.9600       600\n",
      "   macro avg     0.9596    0.9600    0.9598       600\n",
      "weighted avg     0.9600    0.9600    0.9600       600\n",
      "\n"
     ]
    },
    {
     "data": {
      "image/png": "[encoded data removed]",
      "text/plain": [
       "<Figure size 576x576 with 2 Axes>"
      ]
     },
     "metadata": {
      "needs_background": "light"
     },
     "output_type": "display_data"
    }
   ],
   "source": [
    "# Converts predictions to binary\n",
    "pred_y_indices = predict_indices(pred_y, thresh=0.5)\n",
    "\n",
    "show_classification_report(test_y, pred_y_indices)\n",
    "\n",
    "axis_labels = list(test_generator.class_indices)\n",
    "show_confusion_matrix(test_y, pred_y_indices, axis_labels)"
   ]
  },
  {
   "cell_type": "code",
   "execution_count": null,
   "id": "313c70c7",
   "metadata": {},
   "outputs": [],
   "source": [
    "\n",
    "\n"
   ]
  }
 ],
 "metadata": {
  "kernelspec": {
   "display_name": "Python 3 (ipykernel)",
   "language": "python",
   "name": "python3"
  },
  "language_info": {
   "codemirror_mode": {
    "name": "ipython",
    "version": 3
   },
   "file_extension": ".py",
   "mimetype": "text/x-python",
   "name": "python",
   "nbconvert_exporter": "python",
   "pygments_lexer": "ipython3",
   "version": "3.9.12"
  },
  "toc": {
   "base_numbering": 1,
   "nav_menu": {},
   "number_sections": true,
   "sideBar": true,
   "skip_h1_title": false,
   "title_cell": "Table of Contents",
   "title_sidebar": "Contents",
   "toc_cell": false,
   "toc_position": {},
   "toc_section_display": true,
   "toc_window_display": false
  }
 },
 "nbformat": 4,
 "nbformat_minor": 5
}
